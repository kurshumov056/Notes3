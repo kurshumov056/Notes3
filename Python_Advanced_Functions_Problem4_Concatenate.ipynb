{
 "cells": [
  {
   "cell_type": "code",
   "execution_count": 4,
   "metadata": {},
   "outputs": [
    {
     "name": "stdout",
     "output_type": "stream",
     "text": [
      "SoftUniIsGreat!\n",
      "I Love Python\n"
     ]
    }
   ],
   "source": [
    "'''   \n",
    "\n",
    "                                                                    4. Concatenate\n",
    "\n",
    "Write a function called concatenate() that receives some strings, concatenates them, and returns the result.\n",
    "\n",
    "Examples\n",
    "\n",
    "Text Code                                                           Output\n",
    "print(concatenate(\"Soft\", \"Uni\", \"Is\", \"Great\", \"!\"))               SoftUniIsGreat!\n",
    "\n",
    "\n",
    "\n",
    "\n",
    "Text Code                                                           Output\n",
    "print(concatenate(\"I\", \" \", \"Love\", \" \", \"Python\"))                 I Love Python\n",
    "'''\n",
    "\n",
    "def concatenate(*args):\n",
    "    result = ''\n",
    "    for x in args:\n",
    "        result += x\n",
    "    return result\n",
    "\n",
    "print(concatenate(\"Soft\", \"Uni\", \"Is\", \"Great\", \"!\")) \n",
    "print(concatenate(\"I\", \" \", \"Love\", \" \", \"Python\"))  "
   ]
  },
  {
   "cell_type": "code",
   "execution_count": 1,
   "metadata": {},
   "outputs": [
    {
     "name": "stdout",
     "output_type": "stream",
     "text": [
      "The crossover index is: 2\n"
     ]
    }
   ],
   "source": []
  },
  {
   "cell_type": "code",
   "execution_count": null,
   "metadata": {},
   "outputs": [],
   "source": []
  }
 ],
 "metadata": {
  "interpreter": {
   "hash": "72f905a1bbd07dc295e964c0246fea79da9263e854d6ece130d260b8e4a73f49"
  },
  "kernelspec": {
   "display_name": "Python 3.10.1 64-bit",
   "language": "python",
   "name": "python3"
  },
  "language_info": {
   "codemirror_mode": {
    "name": "ipython",
    "version": 3
   },
   "file_extension": ".py",
   "mimetype": "text/x-python",
   "name": "python",
   "nbconvert_exporter": "python",
   "pygments_lexer": "ipython3",
   "version": "3.10.1"
  },
  "orig_nbformat": 4
 },
 "nbformat": 4,
 "nbformat_minor": 2
}
