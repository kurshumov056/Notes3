{
 "cells": [
  {
   "cell_type": "code",
   "execution_count": 1,
   "metadata": {},
   "outputs": [
    {
     "data": {
      "text/plain": [
       "'  \\n                                                                Exercise: Stacks, Queues, Tuples, and Sets\\n\\n                                                                \\n                                                Problems for exercise and homework for the Python Advanced Course @SoftUni.\\n\\n                                                \\n                                                \\n                                                \\n                                                \\n                                      Submit your solutions in the SoftUni judge system at https://judge.softuni.org/Contests/3159.\\n \\n\\n'"
      ]
     },
     "execution_count": 1,
     "metadata": {},
     "output_type": "execute_result"
    }
   ],
   "source": [
    "'''  \n",
    "                                                                Exercise: Stacks, Queues, Tuples, and Sets\n",
    "\n",
    "                                                                \n",
    "                                                Problems for exercise and homework for the Python Advanced Course @SoftUni.\n",
    "\n",
    "                                                \n",
    "                                                \n",
    "                                                \n",
    "                                                \n",
    "                                      Submit your solutions in the SoftUni judge system at https://judge.softuni.org/Contests/3159.\n",
    " \n",
    "\n",
    "'''"
   ]
  },
  {
   "cell_type": "code",
   "execution_count": 41,
   "metadata": {},
   "outputs": [
    {
     "name": "stdout",
     "output_type": "stream",
     "text": [
      "{2, 3, 4, 5, 6, 9}\n",
      "{1, 2, 3, 5, 6}\n",
      "False\n",
      "{6}\n"
     ]
    }
   ],
   "source": [
    "'''  \n",
    " \n",
    "                                                                                1. Numbers\n",
    "\n",
    "\n",
    "First, you will be given two sequences of integers values on different lines. The values of the sequences are separated by a single space between them.\n",
    "\n",
    "Keep in mind that each sequence should contain only unique values.\n",
    "\n",
    "Next, you will receive a number - N. On the next N lines, you will receive one of the following commands:\n",
    "    . \"Add First {numbers, separated by a space}\" - add the given numbers at the end of the first sequence of numbers.\n",
    "    . \"Add Second {numbers, separated by a space}\" - add the given numbers at the end of the second sequence of numbers.\n",
    "    . \"Remove First {numbers, separated by a space}\" - remove only the numbers contained in the first sequence.\n",
    "    . \"Remove Second {numbers, separated by a space}\" - remove only the numbers contained in the second sequence.\n",
    "    . \"Check Subset\" - check if any of the given sequences are a subsetof the other. If it is, print \"True\". Otherwise, print \"False\".\n",
    "\n",
    "In the end, print the final sequence, seperated by a comma and a space \", \". The values in each sequence should be sorted in ascending order.\n",
    "\n",
    "Examples:\n",
    "\n",
    "Input                       Output\n",
    "\n",
    "1 2 3 4 5                   True\n",
    "1 2 3                       1, 2, 3, 4, 5, 6\n",
    "3                           1, 2, 3\n",
    "Add first 5 6               \n",
    "Remove Second 8 9 11\n",
    "Check Subset\n",
    "\n",
    "\n",
    "Input                       Output\n",
    "5 4 2 9 9 5 4               False\n",
    "1 1 1 5 6 5                 2, 3, 4, 5, 6, 9\n",
    "4                           6\n",
    "Add First 5 6 9 3\n",
    "Add Second 1 2 3 3 3\n",
    "Check Subset\n",
    "Remove Second 1 2 3 4 5\n",
    "'''\n",
    "from collections import deque\n",
    "\n",
    "first = set([int(x) for x in input().split()])\n",
    "second = set([int(x) for x in input().split()])\n",
    "N = int(input('Enter # of command lines: '))\n",
    "first_deque = deque()\n",
    "second_deque = deque()\n",
    "\n",
    "\n",
    "\n",
    "\n",
    "for i in range(N):\n",
    "    user_input = input('Please enter command + sequence: ').split()\n",
    "    command = \" \".join([str(x) for x in user_input if not x.isdigit()])\n",
    "    sequence = {int(x) for x in user_input if x.isdigit()}\n",
    "\n",
    "    if command == 'Add First':\n",
    "        first = first.union(sequence)\n",
    "        print(first)\n",
    "\n",
    "\n",
    "    elif command == 'Add Second':\n",
    "        second = second.union(sequence)\n",
    "        print(second)\n",
    "\n",
    "    elif command == 'Remove First':\n",
    "        difference_set = first.difference(sequence)\n",
    "        print(difference_set)\n",
    "\n",
    "\n",
    "    elif command == 'Remove Second':\n",
    "        difference_set = second.difference(sequence)\n",
    "        print(difference_set)\n",
    "        \n",
    "    elif command == 'Check Subset':\n",
    "        is_subset_A = first.issubset(second)\n",
    "        is_subset_B = second.issubset(first)\n",
    "\n",
    "        if is_subset_A or is_subset_B:\n",
    "            print('True')\n",
    "        else:\n",
    "            print('False')\n",
    "\n",
    "    else:\n",
    "        print('Invalid command!', command)\n",
    "\n",
    "\n",
    "    "
   ]
  },
  {
   "cell_type": "markdown",
   "metadata": {},
   "source": []
  }
 ],
 "metadata": {
  "interpreter": {
   "hash": "72f905a1bbd07dc295e964c0246fea79da9263e854d6ece130d260b8e4a73f49"
  },
  "kernelspec": {
   "display_name": "Python 3.10.1 64-bit",
   "language": "python",
   "name": "python3"
  },
  "language_info": {
   "codemirror_mode": {
    "name": "ipython",
    "version": 3
   },
   "file_extension": ".py",
   "mimetype": "text/x-python",
   "name": "python",
   "nbconvert_exporter": "python",
   "pygments_lexer": "ipython3",
   "version": "3.10.1"
  },
  "orig_nbformat": 4
 },
 "nbformat": 4,
 "nbformat_minor": 2
}
