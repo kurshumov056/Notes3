{
 "cells": [
  {
   "cell_type": "code",
   "execution_count": 4,
   "metadata": {},
   "outputs": [
    {
     "name": "stdout",
     "output_type": "stream",
     "text": [
      "[12, 15, 18]\n",
      "[12, 15, 18]\n"
     ]
    }
   ],
   "source": [
    "''' \n",
    "                                                            4. Sum Matrix Columns\n",
    "\n",
    "\n",
    "\n",
    "Write a program that reads a matrix from the console and prints the sum for each column on separate lines.\n",
    "On the first line, you will get matrix sizes in format \"{rows}, {columns}\". On the next rows, you will get\n",
    "elements for each column separated with a single space.\n",
    "\n",
    "Examples\n",
    "\n",
    "Input                       Output          \n",
    "\n",
    "3, 6                        12\n",
    "7 1 3 3 2 1                 10\n",
    "1 3 9 8 5 6                 19\n",
    "4 6 7 9 1 0                 20\n",
    "                            8 \n",
    "                            7\n",
    "\n",
    "input                       output\n",
    "\n",
    "3, 3                        12\n",
    "1 2 3                       15\n",
    "4 5 6                       18\n",
    "7 8 9       \n",
    "\n",
    "Hints\n",
    "\n",
    "    . read matrix sizes\n",
    "    . On the next Row lines, read the columns\n",
    "    . Traverse the matrix and sum all elements in each column_index \n",
    "    . Print the sum and continue with the other columns \n",
    "'''\n",
    "\n",
    "def read_matrix():\n",
    "    n, m = [int(x) for x in input().split(', ')]\n",
    "    matrix = []\n",
    "\n",
    "    for _ in range(n):\n",
    "        row = [int(x) for x in input().split(' ')]\n",
    "        matrix.append(row)\n",
    "\n",
    "    return matrix\n",
    "\n",
    "matrix = read_matrix()\n",
    "n = len(matrix)\n",
    "m = len(matrix[0])\n",
    "\n",
    "\n",
    "column_sums = [0] * m\n",
    "\n",
    "\n",
    "                            # VARIANT A: ITERATION IS ROW THEN COLUMN LOOPING\n",
    "\n",
    "                            # ****** iterates from left to right per ROW! *****\n",
    "for r in range(n):\n",
    "    for c in range(m):\n",
    "        value = matrix[r][c]\n",
    "        column_sums[c] += value #column_sums[c] designates that the value addition will be added per the designated column ([c] = col iteration)\n",
    "\n",
    "print(column_sums)\n",
    "\n",
    "\n",
    "\n",
    "                        # VARIANT B: ITERATION IS 1st COULMN THEN ROW LOOPING\n",
    "\n",
    "\n",
    "                        # ******* iteraters from top to bottom per colum   *******\n",
    "\n",
    "matrix = read_matrix()\n",
    "n = len(matrix)\n",
    "m = len(matrix[0])\n",
    "\n",
    "\n",
    "column_sums = [0] * m\n",
    "for r in range(m):\n",
    "    for c in range(n):\n",
    "        value = matrix[r][c]\n",
    "        column_sums[c] += value #column_sums[c] designates that the value addition will be added per the designated column ([c] = col iteration)\n",
    "\n",
    "print(column_sums)\n"
   ]
  },
  {
   "cell_type": "code",
   "execution_count": null,
   "metadata": {},
   "outputs": [],
   "source": []
  }
 ],
 "metadata": {
  "interpreter": {
   "hash": "72f905a1bbd07dc295e964c0246fea79da9263e854d6ece130d260b8e4a73f49"
  },
  "kernelspec": {
   "display_name": "Python 3.10.1 64-bit",
   "language": "python",
   "name": "python3"
  },
  "language_info": {
   "codemirror_mode": {
    "name": "ipython",
    "version": 3
   },
   "file_extension": ".py",
   "mimetype": "text/x-python",
   "name": "python",
   "nbconvert_exporter": "python",
   "pygments_lexer": "ipython3",
   "version": "3.10.1"
  },
  "orig_nbformat": 4
 },
 "nbformat": 4,
 "nbformat_minor": 2
}
