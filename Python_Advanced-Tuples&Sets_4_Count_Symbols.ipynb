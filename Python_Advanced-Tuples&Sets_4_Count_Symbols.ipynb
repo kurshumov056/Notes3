{
 "cells": [
  {
   "cell_type": "code",
   "execution_count": 28,
   "metadata": {},
   "outputs": [
    {
     "name": "stdout",
     "output_type": "stream",
     "text": [
      "[' ', 'S', 'U', 'c', 'f', 'i', 'k', 'n', 'o', 'r', 's', 't']\n",
      " : 1 times/s\n",
      "S: 1 times/s\n",
      "U: 1 times/s\n",
      "c: 1 times/s\n",
      "f: 1 times/s\n",
      "i: 1 times/s\n",
      "k: 1 times/s\n",
      "n: 1 times/s\n",
      "o: 2 times/s\n",
      "r: 1 times/s\n",
      "s: 1 times/s\n",
      "t: 1 times/s\n"
     ]
    }
   ],
   "source": [
    "'''      \n",
    "                                                            4. Count Symbols \n",
    "\n",
    "\n",
    "Write a program that reads a text from the console and counts the occurences of each character in it. Print the results in alphabetical (lexicographical) order.\n",
    "\n",
    "\n",
    "Examples:\n",
    "\n",
    "\n",
    "Input                   Output                  Input                       Output\n",
    "\n",
    "SoftUni rocks           : 1 time/s              Why do you like Python      : 4 time/s\n",
    "                        S: 1 time/s                                         ?: 1 time/s\n",
    "                        U: 1 time/s                                         P: 1 time/s\n",
    "                        c: 1 time/s                                         W: 1 time/s\n",
    "                        f: 1 time/s                                         d: 1 time/s\n",
    "                        i: 1 time/s                                         e: 1 time/s\n",
    "                        k: 1 time/s                                         h: 2 time/s\n",
    "                        n: 1 time/s                                         i: 1 time/s\n",
    "                        o: 2 time/s                                         k: 1 time/s\n",
    "                        r: 1 time/s                                         l: 1 time/s \n",
    "                        s: 1 time/s                                         n: 1 time/s\n",
    "                        t: 1 time/s                                         o: 3 time/s \n",
    "                                                                            t: 1 time/s\n",
    "                                                                            u: 1 time/s\n",
    "\n",
    "'''\n",
    "\n",
    "\n",
    "def count_symbols(user_input):\n",
    "    my_dict = dict()\n",
    "\n",
    "    for letter in user_input:\n",
    "\n",
    "        if letter not in my_dict:\n",
    "            my_dict[letter] = 1 \n",
    "\n",
    "        else:\n",
    "            my_dict[letter] += 1\n",
    "\n",
    "    ordered = sorted(my_dict.keys())\n",
    "    print(ordered)\n",
    "\n",
    "    for item in ordered:\n",
    "        if item in my_dict.keys():\n",
    "            print(f\"{item}: {my_dict[item]} times/s\")\n",
    "\n",
    "    \n",
    "\n",
    "count_symbols('SoftUni rocks')"
   ]
  }
 ],
 "metadata": {
  "interpreter": {
   "hash": "72f905a1bbd07dc295e964c0246fea79da9263e854d6ece130d260b8e4a73f49"
  },
  "kernelspec": {
   "display_name": "Python 3.10.1 64-bit",
   "language": "python",
   "name": "python3"
  },
  "language_info": {
   "codemirror_mode": {
    "name": "ipython",
    "version": 3
   },
   "file_extension": ".py",
   "mimetype": "text/x-python",
   "name": "python",
   "nbconvert_exporter": "python",
   "pygments_lexer": "ipython3",
   "version": "3.10.1"
  },
  "orig_nbformat": 4
 },
 "nbformat": 4,
 "nbformat_minor": 2
}
