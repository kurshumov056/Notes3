{
 "cells": [
  {
   "cell_type": "code",
   "execution_count": 8,
   "metadata": {},
   "outputs": [
    {
     "name": "stdout",
     "output_type": "stream",
     "text": [
      "{'Peter', 'NiceGuy1234', 'George'}\n"
     ]
    }
   ],
   "source": [
    "'''\n",
    "\n",
    "\n",
    "                                                                    \n",
    "                                                                    Exercise: Tuples and Sets\n",
    "                                                Problems for exercise and homework for the Python Advanced Course @SoftUni.\n",
    "                                        Submit your solutions in the SoftUni judge system at https://judge.softuni.org/Contests/1833.\n",
    "\n",
    "1. Unique Usernames\n",
    "Write a program that reads from the console a sequence of N usernames and keeps a collection only of the unique\n",
    "ones. On the first line, you will receive an integer N. On the next N lines, you will receive a username. Print the\n",
    "collection on the console (the order does not matter):\n",
    "\n",
    "Examples\n",
    "\n",
    "\n",
    "Input                           Output\n",
    "6\n",
    "\n",
    "George                          George\n",
    "George                          Peter\n",
    "George                          NiceGuy1234\n",
    "Peter\n",
    "George\n",
    "NiceGuy1234\n",
    "\n",
    "\n",
    "\n",
    "'''\n",
    "\n",
    "def unique_username():\n",
    "    \n",
    "    N = int(input('Please enter number of usernames: '))\n",
    "    my_set = set()\n",
    "\n",
    "    for _ in range(0, N):\n",
    "\n",
    "        inp = input('Enter username: ')\n",
    "        my_set.add(inp)\n",
    "\n",
    "    print(my_set)\n",
    "\n",
    "unique_username()\n"
   ]
  }
 ],
 "metadata": {
  "interpreter": {
   "hash": "72f905a1bbd07dc295e964c0246fea79da9263e854d6ece130d260b8e4a73f49"
  },
  "kernelspec": {
   "display_name": "Python 3.10.1 64-bit",
   "language": "python",
   "name": "python3"
  },
  "language_info": {
   "codemirror_mode": {
    "name": "ipython",
    "version": 3
   },
   "file_extension": ".py",
   "mimetype": "text/x-python",
   "name": "python",
   "nbconvert_exporter": "python",
   "pygments_lexer": "ipython3",
   "version": "3.10.1"
  },
  "orig_nbformat": 4
 },
 "nbformat": 4,
 "nbformat_minor": 2
}
