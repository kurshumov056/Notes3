{
 "cells": [
  {
   "cell_type": "code",
   "execution_count": 61,
   "metadata": {},
   "outputs": [
    {
     "name": "stdout",
     "output_type": "stream",
     "text": [
      "Longest intersection is: {6, 7, 8, 9, 10} with length length: 5\n"
     ]
    }
   ],
   "source": [
    "'''     \n",
    "                                                            5. Longest Intersection\n",
    "\n",
    "\n",
    "Write a program that finds the longest intersection. You will be given a number N. On each of the next N lines you\n",
    "will be given two ranges in the format: \"{first_start}, {first_end}-{second_start}, {second_end}\".\n",
    "You should find the intersection of these two ranges. The start and end numbers in the ranges are inclusive.\n",
    "\n",
    "Finally, you should find the longest intersection of all N intersections, print the numbers that are included and its\n",
    "length in the format: \"Longest intersection is [{longest_intersection_numbers}] with length\n",
    "{length_longest_intersection}\"\n",
    "\n",
    "Note: in each range, there will always be an intersection. If there are two equal intersections, print the first one.\n",
    "\n",
    "\n",
    " \n",
    "\n",
    "input                                   Output                                                           Comments\n",
    "\n",
    "3                         Longest Intersection is [6, 7, 8, 9 10] with length 5                         The intersections of [0-3] and [1-2] is [1-2] (length 2)  \n",
    "0,3-1,2                                                                                                 The intersection of [2-10] and [3-5] is [3-5] (length 3)\n",
    "2,10-3,5                                                                                                The intersection of [6-15] and [3-10] is [6-10] (length 5)-which is the longest\n",
    "6,15-3,10            \n",
    "\n",
    "\n",
    "\n",
    "'''\n",
    "\n",
    "\n",
    "def longest_intersections():\n",
    "    n = int(input('Please enter num of lines: '))\n",
    "    set_1 = set()\n",
    "    set_2 = set()\n",
    "\n",
    "    result = ''\n",
    "\n",
    "    for _ in range(n):\n",
    "        numbers = input('Please enter numbers: ').split('-')\n",
    "        elements_a, elements_b = numbers[0].split(','), numbers[1].split(',')\n",
    "        set_1 = {int(x) for x in range(int(elements_a[0]), int(elements_a[1])+1)}\n",
    "        set_2 =   {int(y) for y in range(int(elements_b[0]), int(elements_b[1])+1)}\n",
    "\n",
    "        current_set = (set_1 & set_2)\n",
    "\n",
    "        if len(current_set) > len(result):\n",
    "            result = current_set\n",
    "\n",
    "    print(f'Longest intersection is: {current_set} with length length: {len(result)}')\n",
    "        \n",
    "\n",
    "        \n",
    "\n",
    "longest_intersections()"
   ]
  }
 ],
 "metadata": {
  "interpreter": {
   "hash": "72f905a1bbd07dc295e964c0246fea79da9263e854d6ece130d260b8e4a73f49"
  },
  "kernelspec": {
   "display_name": "Python 3.10.1 64-bit",
   "language": "python",
   "name": "python3"
  },
  "language_info": {
   "codemirror_mode": {
    "name": "ipython",
    "version": 3
   },
   "file_extension": ".py",
   "mimetype": "text/x-python",
   "name": "python",
   "nbconvert_exporter": "python",
   "pygments_lexer": "ipython3",
   "version": "3.10.1"
  },
  "orig_nbformat": 4
 },
 "nbformat": 4,
 "nbformat_minor": 2
}
