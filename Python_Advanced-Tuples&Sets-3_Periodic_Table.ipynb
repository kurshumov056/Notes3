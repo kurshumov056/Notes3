{
 "cells": [
  {
   "cell_type": "code",
   "execution_count": 14,
   "metadata": {},
   "outputs": [
    {
     "name": "stdout",
     "output_type": "stream",
     "text": [
      "Mo\n",
      "O\n",
      "Ce\n",
      "Ee\n"
     ]
    }
   ],
   "source": [
    "'''\n",
    "                                                                        3. Periodic Table\n",
    "\n",
    "\n",
    "Write a program that keeps all the unique chemical elements. On the first line, you will be given a number n - the\n",
    "count of input lines that you will receive. On the following n lines, you will be receiving chemical compounds\n",
    "separated by a single space. Your task is to print all the unique ones on separate lines (the order does not matter):\n",
    "\n",
    "Input               Output\n",
    "\n",
    "4                   Ce\n",
    "Ce O                Ee\n",
    "Mo O Ce             Mo\n",
    "Ee                  O\n",
    "Mo\n",
    "\n",
    "\n",
    "Input               Output\n",
    "\n",
    "3                   Ch\n",
    "Ge Ch O Ne          Ge\n",
    "Nb Mo Tc            Mo\n",
    "O Ne                Nb\n",
    "                    Ne\n",
    "                    O\n",
    "                    Tc\n",
    "\n",
    "\n",
    "'''\n",
    "\n",
    "def periodic_table():\n",
    "\n",
    "    n = int(input('Enter number of lines: '))\n",
    "    my_set = set()\n",
    "\n",
    "    for _ in range(n):\n",
    "        user_inputs = input('Please enter elements').split(' ')\n",
    "        my_set = my_set.union(user_inputs)\n",
    "\n",
    "    for element in my_set:\n",
    "        print(element)\n",
    "\n",
    "    \n",
    "\n",
    "periodic_table()\n"
   ]
  }
 ],
 "metadata": {
  "interpreter": {
   "hash": "72f905a1bbd07dc295e964c0246fea79da9263e854d6ece130d260b8e4a73f49"
  },
  "kernelspec": {
   "display_name": "Python 3.10.1 64-bit",
   "language": "python",
   "name": "python3"
  },
  "language_info": {
   "codemirror_mode": {
    "name": "ipython",
    "version": 3
   },
   "file_extension": ".py",
   "mimetype": "text/x-python",
   "name": "python",
   "nbconvert_exporter": "python",
   "pygments_lexer": "ipython3",
   "version": "3.10.1"
  },
  "orig_nbformat": 4
 },
 "nbformat": 4,
 "nbformat_minor": 2
}
