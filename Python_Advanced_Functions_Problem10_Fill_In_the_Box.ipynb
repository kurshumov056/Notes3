{
 "cells": [
  {
   "cell_type": "code",
   "execution_count": 10,
   "metadata": {},
   "outputs": [
    {
     "name": "stdout",
     "output_type": "stream",
     "text": [
      "There is free space in the box. You could put 13 more cubes\n",
      "No more free space! You have 17 more cubes.\n"
     ]
    }
   ],
   "source": [
    "'''\n",
    "\n",
    "                                                                11. *Fill the Box\n",
    "\n",
    "Write a function called fill_the box that receives a different number of arguments representing:\n",
    "    . the height of a box\n",
    "    . the length of a box\n",
    "    . the width of a box\n",
    "    . n-times a different number of cubes with exact size 1 x 1 x 1\n",
    "    · a string \"Finish\"\n",
    "\n",
    "    \n",
    "Your task is to fill the box with the given cubes until the current argument equals \"Finish\".\n",
    "Note: Submit only the function in the judge system\n",
    "\n",
    "Input\n",
    "    . There will be no input. Just parameters passed to your function.\n",
    "\n",
    "Output\n",
    "The function should return a string in the following format:\n",
    "\n",
    "    . If. at the end, there is free space left in the box, print:\n",
    "o \"There is free space in the box. You could put {free space in cubes} more\n",
    "cubes.\"\n",
    "\n",
    ". If there is no free space in the box, print:\n",
    "        \"No more free space! You have { cubes left} more cubes.\"\n",
    "\n",
    " \n",
    "Examples\n",
    "\n",
    "Test Code                                                               Output                                  Comments\n",
    "\n",
    "print(fill_the_box(2, 8, 2, 2, 1, 7, 3, 1, 5,\"Finish\"))                 There is free space in the box.         he size of the box: 2 * 8 * 2 = 32\n",
    "                                                                        You could put 13 more cubes.            We put the cubes consistently. At the end there\n",
    " \n",
    " \n",
    " \n",
    "   '''\n",
    "\n",
    "def fill_the_box(height, length, width, *args):\n",
    "    volume = height * length * width \n",
    "    cubes_left = 0\n",
    "\n",
    "    for element in args:\n",
    "        if element == 'Finish':\n",
    "            break\n",
    "\n",
    "\n",
    "        if element > volume:\n",
    "            element -= volume\n",
    "            cubes_left += element\n",
    "            volume = 0\n",
    "              \n",
    "        else:\n",
    "            volume -= element\n",
    "    \n",
    "    if volume > 0:\n",
    "        return f'There is free space in the box. You could put {volume} more cubes'\n",
    "    else:\n",
    "        return f'No more free space! You have {cubes_left} more cubes.'\n",
    "\n",
    "\n",
    "print(fill_the_box(2, 8, 2 ,2, 1, 7, 3, 1, 5, \"Finish\"))\n",
    "\n",
    "print(fill_the_box(5, 5, 2, 40, 11, 7, 3, 1, 5, 'Finish'))"
   ]
  },
  {
   "cell_type": "code",
   "execution_count": null,
   "metadata": {},
   "outputs": [],
   "source": []
  }
 ],
 "metadata": {
  "interpreter": {
   "hash": "72f905a1bbd07dc295e964c0246fea79da9263e854d6ece130d260b8e4a73f49"
  },
  "kernelspec": {
   "display_name": "Python 3.10.1 64-bit",
   "language": "python",
   "name": "python3"
  },
  "language_info": {
   "codemirror_mode": {
    "name": "ipython",
    "version": 3
   },
   "file_extension": ".py",
   "mimetype": "text/x-python",
   "name": "python",
   "nbconvert_exporter": "python",
   "pygments_lexer": "ipython3",
   "version": "3.10.1"
  },
  "orig_nbformat": 4
 },
 "nbformat": 4,
 "nbformat_minor": 2
}
