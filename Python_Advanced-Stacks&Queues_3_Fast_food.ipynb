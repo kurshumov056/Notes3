{
 "cells": [
  {
   "cell_type": "code",
   "execution_count": 66,
   "metadata": {},
   "outputs": [
    {
     "name": "stdout",
     "output_type": "stream",
     "text": [
      "Available food: 499 \n",
      "Total Order list: 57 45 62 70 33 90 88 76 100 50\n",
      "Remaining orders: 100 50 76\n"
     ]
    }
   ],
   "source": [
    "'''   \n",
    "                                                                    3. Fast Food\n",
    "\n",
    "You have a fast-food restaurant, and the food you are offering is previously prepared.\n",
    "\n",
    "Write a program that checks if you have enough food to serve lunch to all your customers. You also want to know the client with the biggest order for that day is.\n",
    "\n",
    "First, you will be given the quantity of the food you have for the day (an integer number). Next, you will be given sequence of integers (separated by a single space), \n",
    "each representing the quantity of food in each order. Keep orders in a queue.\n",
    "\n",
    "Find the biggest order and print it. Next, you will begin servicing your clients from the first one that came. Be each order, check if you have enough food left to complete it:\n",
    "    . If you have, remove the order from the queue and reduce the quantity of food in the restaurant.\n",
    "    · Otherwise, stop serving.\n",
    "\n",
    "Input\n",
    "    . On the first line, you will be given the quantity of your food - an integer in the range [0, 1000]\n",
    "    , On the second line, you will receive a sequence of integers, representing each order, seperated by a single space.\n",
    "\n",
    "Output\n",
    "\n",
    "    . On the first line print the quantity of the biggest order\n",
    "    . On the second line:\n",
    "                - If you succeeded in servicing all your clients, print \"Orders complete\"\n",
    "                - Otherwise, print: \"Orders left: {order1} {order2}.....{orderN}\n",
    "\n",
    "\n",
    "Constraints\n",
    "    . The input will always be valid\n",
    "\n",
    "\n",
    "Examples:\n",
    "\n",
    "Input                       Output\n",
    "\n",
    "348                         54\n",
    "20 54 30 16 7 9             Orders complete\n",
    "\n",
    "\n",
    "\n",
    "\n",
    "Input                                   Output\n",
    "\n",
    "499                                     100\n",
    "57 45 62 70 33 90 88 76 100 50          Orders left: 76 100 50\n",
    "\n",
    "\n",
    "\n",
    "\n",
    "'''\n",
    "def fast_food_que(available_food):\n",
    "    from collections import deque\n",
    "    user_input = input('Enter order list')\n",
    "    print(f\"Available food: {available_food} \\nTotal Order list: {user_input}\")\n",
    "    line_que = deque(user_input.split(\" \"))\n",
    "    flag = False\n",
    "    \n",
    "\n",
    "    while available_food > 0:\n",
    "        if len(line_que) == 0:\n",
    "            print('All orders are complete!')\n",
    "            break\n",
    "        elif len(line_que) > 0:\n",
    "         \n",
    "            order = int(line_que.popleft())\n",
    "            if available_food - order < 0:\n",
    "                line_que.append(order)\n",
    "                \n",
    "                print(f\"Remaining orders: {' '.join([str(x) for x in line_que])}\")\n",
    "                break\n",
    "            else:\n",
    "                available_food -= order\n",
    "    \n",
    "            \n",
    "\n",
    "    # if complete:\n",
    "\n",
    "fast_food_que(499)\n"
   ]
  }
 ],
 "metadata": {
  "interpreter": {
   "hash": "72f905a1bbd07dc295e964c0246fea79da9263e854d6ece130d260b8e4a73f49"
  },
  "kernelspec": {
   "display_name": "Python 3.10.1 64-bit",
   "language": "python",
   "name": "python3"
  },
  "language_info": {
   "codemirror_mode": {
    "name": "ipython",
    "version": 3
   },
   "file_extension": ".py",
   "mimetype": "text/x-python",
   "name": "python",
   "nbconvert_exporter": "python",
   "pygments_lexer": "ipython3",
   "version": "3.10.1"
  },
  "orig_nbformat": 4
 },
 "nbformat": 4,
 "nbformat_minor": 2
}
