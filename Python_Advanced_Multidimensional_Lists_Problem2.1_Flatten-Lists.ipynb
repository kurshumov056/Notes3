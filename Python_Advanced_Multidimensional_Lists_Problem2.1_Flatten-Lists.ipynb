{
 "cells": [
  {
   "cell_type": "code",
   "execution_count": 10,
   "metadata": {},
   "outputs": [
    {
     "name": "stdout",
     "output_type": "stream",
     "text": [
      "\n",
      "\n",
      "User Input:  ['1 2 3 ', '4 5 6 ', ' 7 88']\n",
      "Result:   7 88 4 5 6  1 2 3  \n",
      "\n",
      "\n",
      "User Input:  ['7 ', ' 4 5', '1 0', ' 2 5 ', '3']\n",
      "Result:  3  2 5  1 0  4 5 7  \n",
      "\n",
      "\n",
      "User Input:  ['1', ' 4 5 6 7 ', ' 89']\n",
      "Result:   89  4 5 6 7  1 \n"
     ]
    }
   ],
   "source": [
    "'''    \n",
    "                        1. Flatten Lists\n",
    "\n",
    "\n",
    "Write a prgoram to flatten several lists of numbers received in the following format:\n",
    "\n",
    "    . String with numbers or empty strings seperated by \"|\"\n",
    "    . Values are seperated by spaces (\" \", one or several)\n",
    "    . Order the output list from the last to the first matrix sub-lists and their values from left to right as shown below\n",
    "\n",
    "Examples\n",
    "\n",
    "Input                           Output\n",
    "1 2 3 |4 5 6 | 7 88             7 88 4 5 6 1 2 3 \n",
    "\n",
    "\n",
    "Input                           Output\n",
    "7 | 4 5|1 0| 2 5 |3             3 2 5 1 0 4 5 7\n",
    "\n",
    " \n",
    "Input                           Output\n",
    "1| 4 5 6 7 | 89                 8 9 4 5 6 7 1                  \n",
    "\n",
    "\n",
    "'''\n",
    "\n",
    "def flatten_list(user_input):\n",
    "\n",
    "    elements = user_input.split(\"|\")\n",
    "    transformed_elements = \"\"\n",
    "\n",
    "    for string in elements[::-1]:\n",
    "        for char in string:\n",
    "            transformed_elements += char\n",
    "        transformed_elements += \" \"\n",
    "    print('\\n\\nUser Input: ', elements)        \n",
    "    print('Result: ', transformed_elements)\n",
    "\n",
    "\n",
    "flatten_list(\"1 2 3 |4 5 6 | 7 88\") \n",
    "flatten_list(\"7 | 4 5|1 0| 2 5 |3\") \n",
    "flatten_list(\"1| 4 5 6 7 | 89\")  \n"
   ]
  },
  {
   "cell_type": "code",
   "execution_count": null,
   "metadata": {},
   "outputs": [],
   "source": []
  }
 ],
 "metadata": {
  "interpreter": {
   "hash": "72f905a1bbd07dc295e964c0246fea79da9263e854d6ece130d260b8e4a73f49"
  },
  "kernelspec": {
   "display_name": "Python 3.10.1 64-bit",
   "language": "python",
   "name": "python3"
  },
  "language_info": {
   "codemirror_mode": {
    "name": "ipython",
    "version": 3
   },
   "file_extension": ".py",
   "mimetype": "text/x-python",
   "name": "python",
   "nbconvert_exporter": "python",
   "pygments_lexer": "ipython3",
   "version": "3.10.1"
  },
  "orig_nbformat": 4
 },
 "nbformat": 4,
 "nbformat_minor": 2
}
