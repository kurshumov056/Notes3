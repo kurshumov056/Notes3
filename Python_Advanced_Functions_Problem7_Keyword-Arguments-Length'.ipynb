{
 "cells": [
  {
   "cell_type": "code",
   "execution_count": 22,
   "metadata": {},
   "outputs": [
    {
     "name": "stdout",
     "output_type": "stream",
     "text": [
      "[3, 8]\n"
     ]
    }
   ],
   "source": []
  },
  {
   "cell_type": "code",
   "execution_count": 1,
   "metadata": {},
   "outputs": [
    {
     "name": "stdout",
     "output_type": "stream",
     "text": [
      "The crossover index is: 2\n"
     ]
    }
   ],
   "source": []
  },
  {
   "cell_type": "code",
   "execution_count": 8,
   "metadata": {},
   "outputs": [
    {
     "name": "stdout",
     "output_type": "stream",
     "text": [
      "2\n",
      "0\n"
     ]
    }
   ],
   "source": [
    "'''      \n",
    "                                                                7. Keyword Arguments Length\n",
    "\n",
    "\n",
    "Create a function called kwargs_length() that can receive some keyword arguments and return their length.\n",
    "Submit only the function in the judge system.\n",
    "\n",
    "Examples:\n",
    "\n",
    "\n",
    "\n",
    "Test Code                                           Output\n",
    "dictionary = {'name': 'Peter', 'age\": 25}           2\n",
    "print(kwargs_length( ** dictionary))\n",
    "\n",
    "\n",
    "Test Code                                           Output\n",
    "dictionary = (}                                     0\n",
    "print(kwargs_length( ** dictionary))\n",
    "\n",
    " \n",
    "\n",
    "'''\n",
    "\n",
    "\n",
    "\n",
    "def kwargs_length(**kwargs):\n",
    "    return len(kwargs)\n",
    "\n",
    "\n",
    "\n",
    "dictionary = {'name': 'Peter', 'age': 25}\n",
    "print(kwargs_length(** dictionary))\n",
    "\n",
    "\n",
    "dictionary = {}                               \n",
    "print(kwargs_length( ** dictionary))"
   ]
  },
  {
   "cell_type": "code",
   "execution_count": null,
   "metadata": {},
   "outputs": [],
   "source": []
  }
 ],
 "metadata": {
  "interpreter": {
   "hash": "72f905a1bbd07dc295e964c0246fea79da9263e854d6ece130d260b8e4a73f49"
  },
  "kernelspec": {
   "display_name": "Python 3.10.1 64-bit",
   "language": "python",
   "name": "python3"
  },
  "language_info": {
   "codemirror_mode": {
    "name": "ipython",
    "version": 3
   },
   "file_extension": ".py",
   "mimetype": "text/x-python",
   "name": "python",
   "nbconvert_exporter": "python",
   "pygments_lexer": "ipython3",
   "version": "3.10.1"
  },
  "orig_nbformat": 4
 },
 "nbformat": 4,
 "nbformat_minor": 2
}
