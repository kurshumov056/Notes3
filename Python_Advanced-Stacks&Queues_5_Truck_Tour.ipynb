{
 "cells": [
  {
   "cell_type": "code",
   "execution_count": 102,
   "metadata": {},
   "outputs": [
    {
     "name": "stdout",
     "output_type": "stream",
     "text": [
      "1\n"
     ]
    }
   ],
   "source": [
    "'''   \n",
    "                                                        5. Truck Tour\n",
    "\n",
    "There is a circle road with N petrol pumps. The petrol pumps are numbered 0 to (N-1) (both inclusive). For each petrol pump, you will receive two pieces of information \n",
    "(separated by a single space):\n",
    "    - The amount of petrol the petrol pump will give you\n",
    "    - The distance from that petrol pump to the next petrol pump (kilometers)\n",
    "\n",
    "You are a truck driver, and you want to go all around the circle. You know that the truck consumes 1 liter of petrol per 1 kilometer, and its tank has infinite petrol capacity.\n",
    "\n",
    "In the beginning, the tank is empty but you start your journey at a petrol pump so you can fill it with the given amount of petrol\n",
    "\n",
    "Your task is to calculate the first petrol pump from where the truck will be able to complete the circle. You never miss filling its tank at a petrol pump.\n",
    "\n",
    "\n",
    "Input\n",
    "    . On the first line, you will receive the number of petrol pumps - N\n",
    "    . On the next N lines, you will receive the amount of petrol that each petrol pump will give and the distance\n",
    "between that petrol pump and the next petrol pump, separated by a single space\n",
    "\n",
    "Output\n",
    "    . An integer which will be the smallest index of a petrol pump from which you can start the tour\n",
    "\n",
    "Constraints\n",
    "\n",
    "    · 1 ≤ N ≤ 1000001\n",
    "    . 1 ≤ amount of petrol, distance ≤ 1000000000\n",
    "    . You will always have at least one point from where the truck will be able to complete the circle\n",
    "\n",
    "Examples\n",
    "\n",
    "\n",
    "Input                   Output\n",
    "\n",
    "3                       1\n",
    "1 5\n",
    "10 3\n",
    "3 4\n",
    "\n",
    "\n",
    "\n",
    "'''\n",
    "\n",
    "def truck_tour(gas_stations):\n",
    "\n",
    "    from collections import deque \n",
    "    station_que = deque()\n",
    "   \n",
    "\n",
    "    while gas_stations:\n",
    "        station_que.append(input('Enter gas station info: '))\n",
    "        gas_stations -= 1\n",
    " \n",
    "    circle = len(station_que)\n",
    "    complete = False\n",
    "\n",
    "    rotation = 0\n",
    "\n",
    "    while not complete:\n",
    "\n",
    "        for item in range(circle):\n",
    "            miles = int(station_que[item].split(\" \")[0])\n",
    "            next_station = int(station_que[item].split(\" \")[1])\n",
    "\n",
    "            if miles > next_station:\n",
    "                print(rotation)\n",
    "                complete = True\n",
    "                break\n",
    "\n",
    "            else:\n",
    "                rotation += 1\n",
    "                station_que.rotate(-1)\n",
    "                break\n",
    "\n",
    "        \n",
    "\n",
    "truck_tour(3)"
   ]
  },
  {
   "cell_type": "code",
   "execution_count": null,
   "metadata": {},
   "outputs": [],
   "source": []
  }
 ],
 "metadata": {
  "interpreter": {
   "hash": "72f905a1bbd07dc295e964c0246fea79da9263e854d6ece130d260b8e4a73f49"
  },
  "kernelspec": {
   "display_name": "Python 3.10.1 64-bit",
   "language": "python",
   "name": "python3"
  },
  "language_info": {
   "codemirror_mode": {
    "name": "ipython",
    "version": 3
   },
   "file_extension": ".py",
   "mimetype": "text/x-python",
   "name": "python",
   "nbconvert_exporter": "python",
   "pygments_lexer": "ipython3",
   "version": "3.10.1"
  },
  "orig_nbformat": 4
 },
 "nbformat": 4,
 "nbformat_minor": 2
}
