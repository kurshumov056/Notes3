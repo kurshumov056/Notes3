{
 "cells": [
  {
   "cell_type": "code",
   "execution_count": 63,
   "metadata": {},
   "outputs": [
    {
     "name": "stdout",
     "output_type": "stream",
     "text": [
      "\n",
      "aaa aba aca ada aea afa \n",
      "\n",
      "bbb bcb bdb beb bfb bgb \n",
      "\n",
      "ccc cdc cec cfc cgc chc \n",
      "\n",
      "ddd ded dfd dgd dhd did \n"
     ]
    }
   ],
   "source": [
    "'''     \n",
    "5. Matrix of Palindromes\n",
    "\n",
    "Write a program to generate the following matrix of palindromes of 3 letters with r rows and c columns like the one in the examples below.\n",
    "\n",
    "    . Rows define the first and the last letter: row 0 > 'a', row 1 > 'b', row 2 > 'c', ...\n",
    "    . Columns + rows define the middle letter:\n",
    "        - column 0, row 0 > 'a', column 1, row 0 > 'b', column 2, row 0 > 'c', ...\n",
    "        - column 0, row 1 > 'b', column 1, row 1 > 'c', column 2, row 1 > 'd', ...\n",
    "\n",
    " \n",
    "\n",
    "Input\n",
    "        . The numbers r and c stay at the first line at the input in the format \"{rows} {columns}\"\n",
    "        . r and c are integers in the range [1, 26]\n",
    "\n",
    "Examples\n",
    "\n",
    "'''\n",
    "\n",
    "rows, cols = [int(x) for x in input().split()]\n",
    "letters = [\"a\", \"b\", \"c\", \"d\", \"e\", \"f\", \"g\", \"h\", \"i\", \"j\", \"k\", \"l\", \"m\", \"n\", \"o\", \"p\", \"q\", \"r\", \"s\", \"t\", \"u\", \"v\", \"w\", \"x\", \"y\", \"z\"]\n",
    "matrix = []\n",
    "lst = []\n",
    "\n",
    "\n",
    "for row in range(rows):\n",
    "    final_row = []\n",
    "    main_chars = letters[row] * 2\n",
    "    \n",
    "    \n",
    "    for col in range(cols):\n",
    "        final_chars = main_chars[0] + letters[col + row]  + main_chars[1]\n",
    "        final_row += [final_chars]\n",
    "    matrix.append(final_row)\n",
    "    \n",
    "for x in matrix:\n",
    "     chars = ''\n",
    "     print('')\n",
    "     for y in x:\n",
    "         chars += y + ' '\n",
    "     print(chars)\n",
    "    \n",
    "        \n",
    "    \n",
    "    \n",
    "\n",
    "\n",
    " \n"
   ]
  },
  {
   "cell_type": "code",
   "execution_count": null,
   "metadata": {},
   "outputs": [],
   "source": []
  }
 ],
 "metadata": {
  "interpreter": {
   "hash": "72f905a1bbd07dc295e964c0246fea79da9263e854d6ece130d260b8e4a73f49"
  },
  "kernelspec": {
   "display_name": "Python 3.10.1 64-bit",
   "language": "python",
   "name": "python3"
  },
  "language_info": {
   "codemirror_mode": {
    "name": "ipython",
    "version": 3
   },
   "file_extension": ".py",
   "mimetype": "text/x-python",
   "name": "python",
   "nbconvert_exporter": "python",
   "pygments_lexer": "ipython3",
   "version": "3.10.1"
  },
  "orig_nbformat": 4
 },
 "nbformat": 4,
 "nbformat_minor": 2
}
