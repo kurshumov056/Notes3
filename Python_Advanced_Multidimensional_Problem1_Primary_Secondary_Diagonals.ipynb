{
 "cells": [
  {
   "cell_type": "code",
   "execution_count": 16,
   "metadata": {},
   "outputs": [
    {
     "name": "stdout",
     "output_type": "stream",
     "text": [
      "User input Row #3\n",
      "User input matrix: [['1', '2', '3'], ['4', '5', '6'], ['7', '8', '9']]\n",
      "Primary diagonal: 1 5 9  Sum: 15\n",
      "Primary diagonal: 3 5 7  Sum: 15\n"
     ]
    }
   ],
   "source": [
    "'''   \n",
    "                                        1. Diagonals \n",
    "\n",
    "\n",
    "Using a nested list comprehension, write a program that reads rows of a square matrix and its elements, separated\n",
    "by a comma and a space \", \". You should find the matrix's diagonals, prints them and their sum in the format:\n",
    "\n",
    "        \"Primary diagonal: {element1}, {element2}, .. {elementN}. Sum: {sum_of_primary}\n",
    "        Secondary diagonal: {element1}, {element2}, ... {elementN}. Sum: {sum_of_secondary}\".   \n",
    "\n",
    "\n",
    "\n",
    "\n",
    "Input                       Output\n",
    "3                           Primary diagonal: 1, 5, 9. Sum: 15\n",
    "1, 2, 3                     Secondary diagonal: 3, 5, 7. Sum: 15\n",
    "4, 5, 6\n",
    "7, 8, 9 \n",
    "\n",
    "\n",
    "\n",
    "'''\n",
    "\n",
    "def diagonals():\n",
    "    n = int(input('Enter # matrix rows'))\n",
    "    matrix = [input().split(', ') for _ in range(n)]\n",
    "\n",
    "    print(f'User input Row #{n}')\n",
    "    print(f'User input matrix: {matrix}')\n",
    "    \n",
    "    primary_diagonal = [matrix[i][i] for i in range(n)]\n",
    "    secondary_diagonal = [matrix[i][n - i - 1] for i in range(n)]\n",
    "    primary_diagonal_sum = 0\n",
    "    primary_diagonal_str = ''\n",
    "    secondary_diagonal_sum = 0\n",
    "    secondary_diagonal_str = ''\n",
    "\n",
    "    for x,y in zip(primary_diagonal, secondary_diagonal):\n",
    "        primary_diagonal_sum += int(x)\n",
    "        primary_diagonal_str += x + \" \"\n",
    "        secondary_diagonal_sum += int(y)\n",
    "        secondary_diagonal_str += y + \" \"\n",
    "    \n",
    "    secondary_diagonal = [matrix[i][i] for i in range(n)]\n",
    "    print(f\"Primary diagonal: {primary_diagonal_str} Sum: {primary_diagonal_sum}\")\n",
    "    print(f\"Primary diagonal: {secondary_diagonal_str} Sum: {secondary_diagonal_sum}\")\n",
    "    \n",
    "\n",
    "    \n",
    "        \n",
    "diagonals()"
   ]
  },
  {
   "cell_type": "code",
   "execution_count": null,
   "metadata": {},
   "outputs": [],
   "source": []
  }
 ],
 "metadata": {
  "interpreter": {
   "hash": "72f905a1bbd07dc295e964c0246fea79da9263e854d6ece130d260b8e4a73f49"
  },
  "kernelspec": {
   "display_name": "Python 3.10.1 64-bit",
   "language": "python",
   "name": "python3"
  },
  "language_info": {
   "codemirror_mode": {
    "name": "ipython",
    "version": 3
   },
   "file_extension": ".py",
   "mimetype": "text/x-python",
   "name": "python",
   "nbconvert_exporter": "python",
   "pygments_lexer": "ipython3",
   "version": "3.10.1"
  },
  "orig_nbformat": 4
 },
 "nbformat": 4,
 "nbformat_minor": 2
}
