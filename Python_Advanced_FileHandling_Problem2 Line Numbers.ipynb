{
 "cells": [
  {
   "cell_type": "code",
   "execution_count": 50,
   "metadata": {},
   "outputs": [
    {
     "name": "stdout",
     "output_type": "stream",
     "text": [
      "Line 1: -I was quick to judge him, but it wasn't his fault. (37) (4)\n",
      "\n",
      "Line 2: -Is htis some kind of joke?! Is it? (24) (4)\n",
      "\n",
      "Line 3: -Quick, hide here. It is safer. (22) (4)\n",
      "\n"
     ]
    }
   ],
   "source": [
    "'''  \n",
    "                                                        2. Line Numbers\n",
    "\n",
    "\n",
    "Write a program that reads a text file, inserts line numbers in front of each line, and counts all the letters and\n",
    "punctuation marks. The result should be written to another text file.\n",
    "\n",
    "Examples\n",
    "\n",
    "\n",
    "text.txt                                                output.txt\n",
    "\n",
    "-I was quick to judge him, but it                       Line 1: -I was quick to judge him, but it wasn't his faut. (37)(4)\n",
    "wasn't his fault.\n",
    "-Is this some kind of joke ?! Is                        Line 2: -Is this some kind of joke?! Is it? (24)(4)\n",
    "it?\n",
    "-Quick, hide here. It is safer.                         Line 3: -Quick, hide (22)(4)\n",
    "\n",
    "'''\n",
    "\n",
    "import re\n",
    "\n",
    "with open('text_file.txt', \"r\") as file , open('output.txt', 'w') as output_file:\n",
    "    lst = []\n",
    "    for row,line in enumerate(file):\n",
    "        result = line.strip()\n",
    "        count = len(re.findall('[A-Za-z]', result))\n",
    "        char = len(re.findall('[,.\\\\-\\'\":?!]', result))\n",
    "        section = int(row) + 1\n",
    "        lst += [f\"Line {section}: {result} ({count}) ({char})\"]\n",
    "\n",
    "        output_file.write(f\"Line {section}: {result} ({count}) ({char})\\n\")\n",
    "\n",
    "\n",
    "    \n",
    "\n",
    "\n",
    "with open('output.txt', 'r') as result:\n",
    "    for row,line in enumerate(result):\n",
    "        print(line)\n"
   ]
  },
  {
   "cell_type": "code",
   "execution_count": null,
   "metadata": {},
   "outputs": [],
   "source": []
  }
 ],
 "metadata": {
  "interpreter": {
   "hash": "72f905a1bbd07dc295e964c0246fea79da9263e854d6ece130d260b8e4a73f49"
  },
  "kernelspec": {
   "display_name": "Python 3.10.1 64-bit",
   "language": "python",
   "name": "python3"
  },
  "language_info": {
   "codemirror_mode": {
    "name": "ipython",
    "version": 3
   },
   "file_extension": ".py",
   "mimetype": "text/x-python",
   "name": "python",
   "nbconvert_exporter": "python",
   "pygments_lexer": "ipython3",
   "version": "3.10.1"
  },
  "orig_nbformat": 4
 },
 "nbformat": 4,
 "nbformat_minor": 2
}
