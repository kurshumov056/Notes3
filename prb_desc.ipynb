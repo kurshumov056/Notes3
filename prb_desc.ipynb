{
 "cells": [
  {
   "cell_type": "code",
   "execution_count": 16,
   "metadata": {},
   "outputs": [
    {
     "name": "stdout",
     "output_type": "stream",
     "text": [
      "User input Row #3\n",
      "User input matrix: [['1', '2', '3'], ['4', '5', '6'], ['7', '8', '9']]\n",
      "Primary diagonal: 1 5 9  Sum: 15\n",
      "Primary diagonal: 3 5 7  Sum: 15\n"
     ]
    }
   ],
   "source": [
    "''''  \n",
    "                                                                            8. *Bombs\n",
    "\n",
    "\n",
    "You will be given a square matrix of integers, each integer separated by a single space, and each row will be on a\n",
    "new line. On the last line of input, you will receive indexes - coordinates of several cells separated by a single space,\n",
    "in the following format: \"{row1}, {column1} {row2}, {column2} ... {row3}, {column3}\".\n",
    "On those cells, there are bombs. You must detonate every bomb in the order they were given. When a bomb\n",
    "explodes, it deals damage equal to its integer value to all the cells around it (in every direction and in all diagonals).\n",
    "One bomb can't explode more than once, and after it does, its value becomes 0. When a cell's value reaches 0 or\n",
    "below, it dies. Dead cells can't explode.\n",
    "\n",
    "You must print the count of all alive cells and their sum. Afterward, print the matrix with all its cells (including the\n",
    "dead ones).\n",
    "\n",
    "Input\n",
    "\n",
    "    . On the first line, you are given the integer N - the size of the square matrix.\n",
    "    . The following N lines hold each column's values - N numbers separated by a space.\n",
    "    . On the last line, you will receive the coordinates of the cells with the bombs in the format described above\n",
    "\n",
    "Output\n",
    "    . On the first line, you will need to print the count of all alive cells in the format::\n",
    "        \"Alive cells: {alive_Cells}\"\n",
    "    . On the second line, you need to print the sum of all alive cells in the format:\n",
    "        \"Sum: {sum_of_cells}\"\n",
    "    . In the end, print the matrix. A space must separate the cells.\n",
    "\n",
    "- Constraints\n",
    "    . The size of the matrix will be between [0 ... 1000].\n",
    "    . The bomb coordinates will always be in the matrix.\n",
    "    . The bomb's values will always be greater than 0.\n",
    "    . The integers of the matrix will be in the range [1 ... 10000].\n",
    "\n",
    "Examples\n",
    "\n",
    "Input                   Output              Comments\n",
    "4                       Alive cells: 3      1) The bomb with value 7 will explode and reduce the values of the cells around it.\n",
    "8 3 2 5                 Sum: 12\n",
    "6 4 7 9                  8 -4 -5 -2         2) The bomb with coordinates 2,1 and value 9 will explode and reduce its neighbor cells\n",
    "9 9 3 6                 -3 -3  0  2\n",
    "6 8 1 2                  0  0 -4 -1         3) The bomb with coordinates 2,0 and vallue 9 will explode\n",
    "1,2 2,1 2,0             -3 -1 -1  2         After that you have to print the count of the alive cells -3 a d their sum -12. Print the matrix after the explosions\n",
    "\n",
    "\n",
    "\n",
    "Input                   Output\n",
    "\n",
    "3                       Alive cells: 3\n",
    "7 8 4                   Sum: 8\n",
    "3 1 5                   4  1  0\n",
    "6 4 9                   0 -3 -8\n",
    "0,2 1,0 2,2             3 -8  0\n",
    "\n",
    "'''\n"
   ]
  },
  {
   "cell_type": "code",
   "execution_count": null,
   "metadata": {},
   "outputs": [],
   "source": []
  }
 ],
 "metadata": {
  "interpreter": {
   "hash": "72f905a1bbd07dc295e964c0246fea79da9263e854d6ece130d260b8e4a73f49"
  },
  "kernelspec": {
   "display_name": "Python 3.10.1 64-bit",
   "language": "python",
   "name": "python3"
  },
  "language_info": {
   "codemirror_mode": {
    "name": "ipython",
    "version": 3
   },
   "file_extension": ".py",
   "mimetype": "text/x-python",
   "name": "python",
   "nbconvert_exporter": "python",
   "pygments_lexer": "ipython3",
   "version": "3.10.1"
  },
  "orig_nbformat": 4
 },
 "nbformat": 4,
 "nbformat_minor": 2
}
