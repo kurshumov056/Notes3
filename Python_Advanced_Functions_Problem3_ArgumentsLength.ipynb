{
 "cells": [
  {
   "cell_type": "code",
   "execution_count": 7,
   "metadata": {},
   "outputs": [
    {
     "name": "stdout",
     "output_type": "stream",
     "text": [
      "3\n",
      "2\n",
      "1\n"
     ]
    }
   ],
   "source": [
    "'''     \n",
    "                                                        3. Arguments Length\n",
    "\n",
    "Create a function called args_length() that returns the number of the arguments. Submit only the function in the judge system.\n",
    "\n",
    "Examples:\n",
    "\n",
    "Test Code                                   Output\n",
    "print(args_length(1, 32, 5))                3\n",
    "\n",
    "Test Code                                   Output\n",
    "print(args_length(\"john\", \"peter\"))        2\n",
    "\n",
    "Test Code                                   Output\n",
    "print(args_length([1, 2 ,3]))              1   \n",
    "\n",
    "\n",
    "'''\n",
    "\n",
    "def args_length(*args):\n",
    "    return len(args)\n",
    "\n",
    " \n",
    "print(args_length(1, 32, 5))\n",
    "print(args_length(\"john\", \"peter\")) \n",
    "print(args_length([1, 2 ,3])) "
   ]
  },
  {
   "cell_type": "code",
   "execution_count": null,
   "metadata": {},
   "outputs": [],
   "source": []
  }
 ],
 "metadata": {
  "interpreter": {
   "hash": "72f905a1bbd07dc295e964c0246fea79da9263e854d6ece130d260b8e4a73f49"
  },
  "kernelspec": {
   "display_name": "Python 3.10.1 64-bit",
   "language": "python",
   "name": "python3"
  },
  "language_info": {
   "codemirror_mode": {
    "name": "ipython",
    "version": 3
   },
   "file_extension": ".py",
   "mimetype": "text/x-python",
   "name": "python",
   "nbconvert_exporter": "python",
   "pygments_lexer": "ipython3",
   "version": "3.10.1"
  },
  "orig_nbformat": 4
 },
 "nbformat": 4,
 "nbformat_minor": 2
}
