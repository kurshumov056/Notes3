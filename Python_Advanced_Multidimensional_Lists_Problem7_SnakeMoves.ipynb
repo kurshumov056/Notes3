{
 "cells": [
  {
   "cell_type": "code",
   "execution_count": 1,
   "metadata": {},
   "outputs": [
    {
     "name": "stdout",
     "output_type": "stream",
     "text": [
      "S o f t U n\n",
      "U t f o S i\n",
      "n i S o f t\n",
      "f o S i n U\n",
      "t U n i S o\n"
     ]
    }
   ],
   "source": [
    "'''   \n",
    "\n",
    "\n",
    "\n",
    "\n",
    "\n",
    "                                                                    7. Snake Moves\n",
    "\n",
    "\n",
    "You are tasked to visualize a snake's zigzag path in a rectangular matrix with a size N x M.\n",
    "A string represents the snake. It starts moving from the top-left corner to the right. When the snake reaches the end\n",
    "of the row, it slithers its way down to the next row and turns left. The moves are repeated to the very end.\n",
    "The first cell is filled with the first symbol of the snake. The second cell is filled with the second symbol, etc. The snake's\n",
    "path is as long as it takes to fill the matrix completely - if you reach the end of the string representing the snake, start\n",
    "again at the first symbol. In the end, you should print the snake's path.\n",
    "\n",
    "Input\n",
    "The input data consists of exactly two lines:\n",
    "    . On the first line, you will receive the dimensions N x M of the field in format: \"{rows} {columns}\".\n",
    "    . On the second line, you will receive the string representing the snake\n",
    "\n",
    "Output\n",
    "    . You should print the snake's zigzag path of size N x M (rows x columns)\n",
    "\n",
    "Constraints\n",
    "\n",
    "    . The dimensions N and M of the matrix will be integers in the range [1 ... 12]\n",
    "    . The snake will be a string with length in the range [1 ... 20] and will not contain any whitespace characters\n",
    "\n",
    "\n",
    "    Examples\n",
    "\n",
    "\n",
    "Input                       Output\n",
    "\n",
    "5 6                         SoftUn\n",
    "SoftUni                     UtfoSi\n",
    "                            niSoft\n",
    "                            foSinU\n",
    "                            tUniSo\n",
    "\n",
    "Input                       Output\n",
    "\n",
    "1 4                         Pyth\n",
    "Python\n",
    "\n",
    "'''\n",
    "\n",
    "\n",
    "rows, cols = [int(x) for x in input().split()]\n",
    "word = input()\n",
    "idx = 0\n",
    "\n",
    "for row in range(rows):\n",
    "    row_elements = []\n",
    "\n",
    "    for col in range(cols):\n",
    "        row_elements.append(word[idx % len(word)])\n",
    "        idx += 1\n",
    "\n",
    "    if row % 2 == 0:\n",
    "        print(*row_elements, sep = ' ')\n",
    "\n",
    "    else:\n",
    "        print(*reversed(row_elements), sep = ' ')"
   ]
  },
  {
   "cell_type": "code",
   "execution_count": null,
   "metadata": {},
   "outputs": [],
   "source": []
  }
 ],
 "metadata": {
  "interpreter": {
   "hash": "72f905a1bbd07dc295e964c0246fea79da9263e854d6ece130d260b8e4a73f49"
  },
  "kernelspec": {
   "display_name": "Python 3.10.1 64-bit",
   "language": "python",
   "name": "python3"
  },
  "language_info": {
   "codemirror_mode": {
    "name": "ipython",
    "version": 3
   },
   "file_extension": ".py",
   "mimetype": "text/x-python",
   "name": "python",
   "nbconvert_exporter": "python",
   "pygments_lexer": "ipython3",
   "version": "3.10.1"
  },
  "orig_nbformat": 4
 },
 "nbformat": 4,
 "nbformat_minor": 2
}
