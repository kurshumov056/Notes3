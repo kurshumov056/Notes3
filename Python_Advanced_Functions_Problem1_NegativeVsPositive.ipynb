{
 "cells": [
  {
   "cell_type": "code",
   "execution_count": 14,
   "metadata": {},
   "outputs": [
    {
     "name": "stdout",
     "output_type": "stream",
     "text": [
      "    User input: ['1', '2', '-3', '-4', '65', '-98', '12', '57', '-84']\n",
      "\n",
      "Result:\n",
      "Positive integers total sum: 137\n",
      "Negative integers total sum: -189\n",
      "     The negatives are stronger than the positives\n"
     ]
    }
   ],
   "source": [
    "'''    \n",
    "\n",
    "                                                        1. Negative vs Positive\n",
    "\n",
    "\n",
    "                                                        \n",
    "You will receive a sequence of numbers (integers) separated by a single space. Separate the negative numbers from\n",
    "the positive. Find the total sum of the negatives and positives, and print the following:\n",
    "\n",
    "    . On the first line, print the sum of the negatives\n",
    "    . On the second line, print the sum of the positives\n",
    "    . On the third line:\n",
    "        o If the absolute negative number is larger than the positive number:\n",
    "                \"The negatives are stronger than the positives\"\n",
    "        o If the positive number is larger than the absolute negative number:\n",
    "                \"The positives are stronger than the negatives\"\n",
    "    \n",
    "    Note: you will not receive any zeroes in the input.\n",
    "\n",
    "Example\n",
    "\n",
    "Input                                   Output\n",
    "1 2 -3 -4 65 -98 12 57 -84              -189\n",
    "                                         137\n",
    "                                         The negatives are stronger than the positives\n",
    "\n",
    "\n",
    "Input                                   Output\n",
    "1 2 3                                   0 6 \n",
    "'''\n",
    "\n",
    "user_input = input('Enter num sequence: ').split(' ')\n",
    "neg_sum, pos_sum = 0, 0\n",
    "negatives = [int(x) for x in user_input if int(x) < 0]\n",
    "positives = [int(x) for x in user_input if int(x) > 0]\n",
    "neg_sum, pos_sum =sum(negatives), sum(positives)\n",
    " \n",
    "print(f\"    User input: {user_input}\\n\\nResult:\\nPositive integers total sum: {pos_sum}\\nNegative integers total sum: {neg_sum}\")\n",
    "\n",
    "if abs(neg_sum) > pos_sum:\n",
    "    print('     The negatives are stronger than the positives')\n",
    "else:\n",
    "    print('     The positives are stronger than the negatives')"
   ]
  },
  {
   "cell_type": "code",
   "execution_count": null,
   "metadata": {},
   "outputs": [],
   "source": []
  }
 ],
 "metadata": {
  "interpreter": {
   "hash": "72f905a1bbd07dc295e964c0246fea79da9263e854d6ece130d260b8e4a73f49"
  },
  "kernelspec": {
   "display_name": "Python 3.10.1 64-bit",
   "language": "python",
   "name": "python3"
  },
  "language_info": {
   "codemirror_mode": {
    "name": "ipython",
    "version": 3
   },
   "file_extension": ".py",
   "mimetype": "text/x-python",
   "name": "python",
   "nbconvert_exporter": "python",
   "pygments_lexer": "ipython3",
   "version": "3.10.1"
  },
  "orig_nbformat": 4
 },
 "nbformat": 4,
 "nbformat_minor": 2
}
