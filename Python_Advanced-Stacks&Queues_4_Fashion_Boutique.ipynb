{
 "cells": [
  {
   "cell_type": "code",
   "execution_count": 73,
   "metadata": {},
   "outputs": [
    {
     "name": "stdout",
     "output_type": "stream",
     "text": [
      "5\n"
     ]
    }
   ],
   "source": [
    "'''  \n",
    "                                                            4. Fashion Boutique\n",
    "\n",
    "\n",
    "You own a fashion boutique and receive a delivery of a huge box of clothes, represented as a sequence of integers. On the following line, you will be given an integer \n",
    "representing the capacity for one rack in your store. You must arrange the clothes in the store and use the racks to hang up every piece of clothing. You start from the last\n",
    "piece of clothing on the top of the pile to the first one at the bottom. \n",
    "\n",
    "Use a stack for this purpose. \n",
    "\n",
    "Each piece of clothing has its value (an integer). You must sum their values, while you take them out of the box:\n",
    "\n",
    "        . If the sum becomes equal to the capacity of the current rack, you must take a new one for the next clothes (if there are any left in the box).\n",
    "        . If the sum becomes greater than the capacity, do not hang the piece of clothing to the current rack. Take a new rack and then hang it up.\n",
    "\n",
    "\n",
    "In the end, print how many racks you have used to hang up the clothes.\n",
    "\n",
    "Input\n",
    "\n",
    "    . On the first line, you will be given a sequence of integers representing the clothes in the box, separated by a single space\n",
    "    . On the second line, you will be given an integer representing the capacity of a rack.\n",
    "\n",
    "Output\n",
    "    . Print the number of racks needed to hang up to the clothes from te box\n",
    "\n",
    "Constraints\n",
    "    . The values of the clothes wil be integers in the range [0, 20]\n",
    "    . There will never be more than 50 clothes in a box\n",
    "    . The capacity will be an integer in the range [0, 20]\n",
    "    . None of the integers from the box will be greater than the value of the capacity\n",
    "\n",
    "\n",
    "Examples:\n",
    "\n",
    "Input                                       Output\n",
    "\n",
    "5 4 8 6 3 8 7 7 9                           5\n",
    "16\n",
    "\n",
    "\n",
    "Input                                       Output\n",
    "\n",
    "1 7 8 2 5 4 7 8 9 6 3 2 5 4 6               5 \n",
    "20\n",
    "\n",
    "'''\n",
    "\n",
    "def fashion_botique(sequence):\n",
    "    stack_lst = sequence.split(\" \")\n",
    "    capacity = int(input(\"Enter capacity\"))\n",
    "    original_capacity = capacity\n",
    "    used_racks = 1\n",
    "\n",
    "    while stack_lst:\n",
    "        clothing = int(stack_lst.pop())\n",
    "\n",
    "        if capacity - clothing >= 0:\n",
    "            capacity -= clothing \n",
    "\n",
    "        else:\n",
    "            used_racks += 1 \n",
    "            \n",
    "            capacity = original_capacity\n",
    "            capacity -= clothing\n",
    "    \n",
    "    print(used_racks)\n",
    "\n",
    "\n",
    "\n",
    "fashion_botique('1 7 8 2 5 4 7 8 9 6 3 2 5 4 6')\n",
    "# fashion_botique('5 4 8 6 3 8 7 7 9')"
   ]
  },
  {
   "cell_type": "code",
   "execution_count": null,
   "metadata": {},
   "outputs": [],
   "source": []
  }
 ],
 "metadata": {
  "interpreter": {
   "hash": "72f905a1bbd07dc295e964c0246fea79da9263e854d6ece130d260b8e4a73f49"
  },
  "kernelspec": {
   "display_name": "Python 3.10.1 64-bit",
   "language": "python",
   "name": "python3"
  },
  "language_info": {
   "codemirror_mode": {
    "name": "ipython",
    "version": 3
   },
   "file_extension": ".py",
   "mimetype": "text/x-python",
   "name": "python",
   "nbconvert_exporter": "python",
   "pygments_lexer": "ipython3",
   "version": "3.10.1"
  },
  "orig_nbformat": 4
 },
 "nbformat": 4,
 "nbformat_minor": 2
}
