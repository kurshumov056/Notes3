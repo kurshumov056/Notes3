{
 "cells": [
  {
   "cell_type": "code",
   "execution_count": 25,
   "metadata": {},
   "outputs": [
    {
     "name": "stdout",
     "output_type": "stream",
     "text": [
      "26\n",
      "20\n",
      "91 20 26 "
     ]
    }
   ],
   "source": [
    "'''    \n",
    "                                        2. Stacked Queries\n",
    "\n",
    "You have an empty stack. You will receive an integer - N. On the next N lines, you will receive queries. Each query is  one of these four types:\n",
    "    - \"1\" {number} - push the number (integer) into the stack\n",
    "    - \"2\" - delete the number at the top of the stack\n",
    "    - \"3\" - print the maximum number in the stack\n",
    "    - \"4\" - print the minimum number in the stack\n",
    "\n",
    "It is guaranteed that each query is valid*\n",
    "\n",
    "After you go throught all the queries, print the stack from top to bottom in the following format:\n",
    "    \"{n}, {n1}, {n2},....{nN}\"\n",
    "\n",
    "\n",
    "Examples:\n",
    "\n",
    "Input:                          Output:\n",
    "9                               26\n",
    "1 97                            20\n",
    "2                               91, 20, 26\n",
    "1 20\n",
    "2\n",
    "1 26\n",
    "1 20\n",
    "3\n",
    "1 91\n",
    "4\n",
    "\n",
    "\n",
    "'''\n",
    "\n",
    "def stack_queries(num):\n",
    "    input_stack = []\n",
    "    for _ in range(int(num)+1):\n",
    "        user_input = input('Enter operation type ').split(\" \")\n",
    "\n",
    "        \n",
    "        if user_input[0] == \"1\":\n",
    "            input_stack.append(int(user_input[1]))\n",
    "\n",
    "        elif len(input_stack) > 0 and user_input[0] == \"2\":\n",
    "            input_stack.pop()\n",
    "\n",
    "        elif len(input_stack) > 0 and user_input[0] == \"3\" :\n",
    "            print(max(input_stack))\n",
    "\n",
    "        elif len(input_stack) > 0 and user_input[0] == \"4\":\n",
    "            print(min(input_stack))\n",
    "\n",
    "    # print('input_stack = ', input_stack)\n",
    "    \n",
    "    \n",
    "    while input_stack:\n",
    "        pops = input_stack.pop()\n",
    "        print(pops, end = \" \")\n",
    "\n",
    "\n",
    "\n",
    "stack_queries(9)\n",
    "\n"
   ]
  }
 ],
 "metadata": {
  "interpreter": {
   "hash": "72f905a1bbd07dc295e964c0246fea79da9263e854d6ece130d260b8e4a73f49"
  },
  "kernelspec": {
   "display_name": "Python 3.10.1 64-bit",
   "language": "python",
   "name": "python3"
  },
  "language_info": {
   "codemirror_mode": {
    "name": "ipython",
    "version": 3
   },
   "file_extension": ".py",
   "mimetype": "text/x-python",
   "name": "python",
   "nbconvert_exporter": "python",
   "pygments_lexer": "ipython3",
   "version": "3.10.1"
  },
  "orig_nbformat": 4
 },
 "nbformat": 4,
 "nbformat_minor": 2
}
