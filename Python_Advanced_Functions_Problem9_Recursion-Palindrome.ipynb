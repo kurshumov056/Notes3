{
 "cells": [
  {
   "cell_type": "code",
   "execution_count": 51,
   "metadata": {},
   "outputs": [
    {
     "name": "stdout",
     "output_type": "stream",
     "text": [
      "abcba is a palindrome\n",
      "peter is not a palindrome\n"
     ]
    }
   ],
   "source": [
    "'''   \n",
    "\n",
    "\n",
    "                                                                        9. Recursion Palindrome\n",
    "\n",
    "\n",
    "Write a recursive function called palindrome() that will reteive a word and an index (always 0). Implement the\n",
    "function, so it returns \"{word} is a palindrome\" if the word is a palindrome and \"{word} is not a\n",
    "palindrome\" if the word is not a palindrome using recursion. Submit only the function in the judge system.\n",
    "\n",
    "Examples\n",
    "\n",
    "Test Code                               Output\n",
    "print(palindrome(\"abcba\", 0))           abcba is a palindrome\n",
    "print(palindrome(\"peter\", 0))           peter is not a palindrome\n",
    "\n",
    "\n",
    "'''\n",
    "\n",
    "\n",
    "def palindrome(word, n):\n",
    "    if n < len(word):\n",
    "        return palindrome(word, n+1)\n",
    "\n",
    "    else:\n",
    "\n",
    "        if word == word[::-1]:\n",
    "            return f'{word} is a palindrome'\n",
    "\n",
    "        else:\n",
    "            return f'{word} is not a palindrome'\n",
    "\n",
    "    \n",
    "print(palindrome(\"abcba\", 0))\n",
    "print(palindrome(\"peter\", 0))"
   ]
  },
  {
   "cell_type": "code",
   "execution_count": null,
   "metadata": {},
   "outputs": [],
   "source": []
  }
 ],
 "metadata": {
  "interpreter": {
   "hash": "72f905a1bbd07dc295e964c0246fea79da9263e854d6ece130d260b8e4a73f49"
  },
  "kernelspec": {
   "display_name": "Python 3.10.1 64-bit",
   "language": "python",
   "name": "python3"
  },
  "language_info": {
   "codemirror_mode": {
    "name": "ipython",
    "version": 3
   },
   "file_extension": ".py",
   "mimetype": "text/x-python",
   "name": "python",
   "nbconvert_exporter": "python",
   "pygments_lexer": "ipython3",
   "version": "3.10.1"
  },
  "orig_nbformat": 4
 },
 "nbformat": 4,
 "nbformat_minor": 2
}
