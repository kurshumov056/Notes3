{
 "cells": [
  {
   "cell_type": "code",
   "execution_count": 5,
   "metadata": {},
   "outputs": [
    {
     "name": "stdout",
     "output_type": "stream",
     "text": [
      "User input Command: Odd\n",
      "User input Integer Sequence: ['1', '3', '5', '34', '7', '9', '12', '11', '13', '10']\n",
      "\n",
      "Result: 49\n"
     ]
    }
   ],
   "source": [
    "'''    \n",
    " \n",
    "\n",
    "                                                                2. Odd or Even\n",
    "\n",
    "\n",
    "\n",
    "\n",
    "\n",
    "On the first line, you will receive a command - \"Odd\" or \"Even\". You will receive a sequence of numbers (integers)\n",
    "on the second line, separated by a single space.\n",
    ". If the command is \"Odd\", print the sum of the odd numbers multiplied by the count of all numbers.\n",
    ". If the command is \"Even\", print the sum of the even numbers multiplied by the count of all numbers.\n",
    "\n",
    "Example\n",
    "\n",
    "__________________________________________________________________________________________________________________________________\n",
    "Input                                   Output                      Comments                 \n",
    "Odd                                     49\n",
    "1 3 5 34 7 9 12 11 13 10                                        The sum of all odd numbers is: 1 + 3 +5+7 +9+ 11+ 13 = 49.\n",
    "                                                                Multiply the sum: 49 * 10 = 490.\n",
    "\n",
    "__________________________________________________________________________________________________________________________________\n",
    "\n",
    "Input                                   Output\n",
    "\n",
    "Even                                    0\n",
    "1 3 5 7 9 13                            \n",
    "\n",
    " \n",
    "'''\n",
    "\n",
    "command = input('Input command: Odd or Even')\n",
    "user_input = input('Enter num sequence: ').split(' ')\n",
    "neg_sum, pos_sum = 0, 0\n",
    "\n",
    "if command == 'Odd':\n",
    "    result = sum([int(x) for x in user_input if int(x)%2!=0])\n",
    "\n",
    "elif command == 'Even':\n",
    "    result = sum([int(x) for x in user_input if int(x)%2==0])\n",
    "\n",
    "print(f\"User input Command: {command}\\nUser input Integer Sequence: {user_input}\\n\\nResult: {result}\")"
   ]
  },
  {
   "cell_type": "code",
   "execution_count": null,
   "metadata": {},
   "outputs": [],
   "source": []
  }
 ],
 "metadata": {
  "interpreter": {
   "hash": "72f905a1bbd07dc295e964c0246fea79da9263e854d6ece130d260b8e4a73f49"
  },
  "kernelspec": {
   "display_name": "Python 3.10.1 64-bit",
   "language": "python",
   "name": "python3"
  },
  "language_info": {
   "codemirror_mode": {
    "name": "ipython",
    "version": 3
   },
   "file_extension": ".py",
   "mimetype": "text/x-python",
   "name": "python",
   "nbconvert_exporter": "python",
   "pygments_lexer": "ipython3",
   "version": "3.10.1"
  },
  "orig_nbformat": 4
 },
 "nbformat": 4,
 "nbformat_minor": 2
}
