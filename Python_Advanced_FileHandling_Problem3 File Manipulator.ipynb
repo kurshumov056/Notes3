{
 "cells": [
  {
   "cell_type": "code",
   "execution_count": 4,
   "metadata": {},
   "outputs": [],
   "source": [
    "'''\n",
    "3. File Manipulator\n",
    "Create a program that will receive commands until the command \"End\". The commands can be:\n",
    "        . \"Create-{file_name}\" - Creates the given file with an empty content. If the file already exists, remove\n",
    "            the existing text in it (as if the file is created again)\n",
    "        . \"Add-{file_name}-{content}\" - Append the content and a new line after it. If the file does not exist,\n",
    "            create it, and add the content\n",
    "        . \"Replace-{file_name}-{old_string}-{new_string}\" - Open the file and replace all the\n",
    "            occurrences of the old string with the new string. If the file does not exist, print: \"An error occurred\"\n",
    "         \"Delete-{file_name}\" - Delete the file. If the file does not exist, print: \"An error occurred\"\n",
    "\n",
    "Example\n",
    "\n",
    "\n",
    "Input                                   /       Comment\n",
    "\n",
    "Create-file.txt                                The first command creates the empty file\n",
    "Add-file.txt-First Line                        After the first and second Add command, the\n",
    "                                               content is:\n",
    "\n",
    "'''\n",
    "\n",
    "while True:\n",
    "    line = input()\n",
    "    if line == 'End':\n",
    "        break\n",
    "    line_parts = line.split('-')\n",
    "    command = line_parts[0]\n",
    "    file_name = line_parts[1]\n",
    "\n",
    "    if command == 'Create':\n",
    "        open(file_name, 'w').close()\n",
    "\n",
    "    elif cinnabd == 'Add':\n",
    "        content = line_parts[2]\n",
    "        with open(file_name, 'a') as file:\n",
    "            file.write(content + '\\n')\n",
    "    elif command == 'Delete':\n",
    "        if path.exists(file_name):\n",
    "            remove(file_name)\n",
    "        else:\n",
    "            print('An error occurred')\n",
    "    elif command == 'Replace':\n",
    "\n",
    "        old_string = line_parts[2]\n",
    "        new_string = line_parts[3]\n",
    "        with open(file_name, 'w') as file:\n",
    "            new_file_content = file.read().replace(old_string, new_string)\n",
    "            print(new_file_content)"
   ]
  },
  {
   "cell_type": "code",
   "execution_count": null,
   "metadata": {},
   "outputs": [],
   "source": []
  }
 ],
 "metadata": {
  "interpreter": {
   "hash": "72f905a1bbd07dc295e964c0246fea79da9263e854d6ece130d260b8e4a73f49"
  },
  "kernelspec": {
   "display_name": "Python 3.10.1 64-bit",
   "language": "python",
   "name": "python3"
  },
  "language_info": {
   "codemirror_mode": {
    "name": "ipython",
    "version": 3
   },
   "file_extension": ".py",
   "mimetype": "text/x-python",
   "name": "python",
   "nbconvert_exporter": "python",
   "pygments_lexer": "ipython3",
   "version": "3.10.1"
  },
  "orig_nbformat": 4
 },
 "nbformat": 4,
 "nbformat_minor": 2
}
