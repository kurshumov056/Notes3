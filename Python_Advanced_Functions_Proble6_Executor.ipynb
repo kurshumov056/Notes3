{
 "cells": [
  {
   "cell_type": "code",
   "execution_count": 22,
   "metadata": {},
   "outputs": [
    {
     "name": "stdout",
     "output_type": "stream",
     "text": [
      "[3, 8]\n"
     ]
    }
   ],
   "source": [
    "'''   \n",
    "\n",
    "                                                                        6. Function Executor\n",
    "\n",
    "\n",
    "\n",
    "Create a function called func_executor() that can receive a different number of tuples, each of which will have\n",
    "exactly 2 elements: first will be a function, and the second will be a tuple of the arguments that need to be passed\n",
    "to that function. Create a list that will contain all the results of the executed functions with their corresponding\n",
    "arguments and return it after executing all functions. For more clarification, see the examples below. Submit only\n",
    "your function in the judge system.\n",
    "\n",
    "Example:\n",
    "\n",
    "Test code                                   Output\n",
    "def sum_numbers(num1, num2):\n",
    "    return num1 + num2\n",
    "\n",
    "                                            [3, 8]\n",
    "Test code                                   \n",
    "def multiply_numbers(num1, num2):\n",
    "    return num1 * num2\n",
    "\n",
    " \n",
    "print(func_executor((sum_numbers, (1,2)), (multiply_numbers, (2, 4))))\n",
    "'''\n",
    "\n",
    "\n",
    "\n",
    "\n",
    "def sum_numbers(num1, num2):\n",
    "    return num1 + num2\n",
    "\n",
    "                                \n",
    "def multiply_numbers(num1, num2):\n",
    "    return num1 * num2\n",
    "\n",
    "def func_executor(*args):\n",
    "    result = list()\n",
    "    for func in args:\n",
    "        param_1, param_2 , function= func[1][0], func[1][1], func[0]\n",
    "        result += [function(param_1, param_2)]\n",
    "    return result\n",
    "\n",
    "print(func_executor((sum_numbers, (1,2)), (multiply_numbers, (2, 4))))"
   ]
  },
  {
   "cell_type": "code",
   "execution_count": 1,
   "metadata": {},
   "outputs": [
    {
     "name": "stdout",
     "output_type": "stream",
     "text": [
      "The crossover index is: 2\n"
     ]
    }
   ],
   "source": []
  },
  {
   "cell_type": "code",
   "execution_count": null,
   "metadata": {},
   "outputs": [],
   "source": []
  }
 ],
 "metadata": {
  "interpreter": {
   "hash": "72f905a1bbd07dc295e964c0246fea79da9263e854d6ece130d260b8e4a73f49"
  },
  "kernelspec": {
   "display_name": "Python 3.10.1 64-bit",
   "language": "python",
   "name": "python3"
  },
  "language_info": {
   "codemirror_mode": {
    "name": "ipython",
    "version": 3
   },
   "file_extension": ".py",
   "mimetype": "text/x-python",
   "name": "python",
   "nbconvert_exporter": "python",
   "pygments_lexer": "ipython3",
   "version": "3.10.1"
  },
  "orig_nbformat": 4
 },
 "nbformat": 4,
 "nbformat_minor": 2
}
