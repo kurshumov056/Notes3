{
 "cells": [
  {
   "cell_type": "code",
   "execution_count": 10,
   "metadata": {},
   "outputs": [
    {
     "name": "stdout",
     "output_type": "stream",
     "text": [
      "{3, 5}\n"
     ]
    }
   ],
   "source": [
    "'''      \n",
    "                                                            2. Sets of Elements\n",
    "\n",
    "Write a program that prints a set of elements. On the first line, you will receive two numbers - n and m, separated\n",
    "by a single space - representing the lengths of two separate sets. On the next n + m lines, you will receive n numbers,\n",
    "which are the numbers in the first set, and m numbers, which are in the second set. Find all the unique elements that\n",
    "appear in both and print them on separate lines (the order does not matter).\n",
    "\n",
    "\n",
    "For example:\n",
    "Set with length n = 4: {1, 3, 5, 7}\n",
    "Set with length m = 3: {3, 4, 5}\n",
    "Set that contains all the elements that repeat in both sets -> {3, 5}\n",
    "\n",
    "\n",
    "Input               Output\n",
    "4 3                 3\n",
    "1                   5\n",
    "3\n",
    "5\n",
    "7\n",
    "3\n",
    "4\n",
    "5\n",
    "\n",
    "\n",
    "\n",
    "\n",
    "'''\n",
    "\n",
    "def shared_set_elements():\n",
    "    n = int(input('Please enter number of N elements'))\n",
    "    n_set = set()\n",
    "    m = int(input('Please enter number of M elements'))\n",
    "    m_set = set()\n",
    "\n",
    "    for _ in range(0, n):\n",
    "        n_set.add(int(input('Please enter N number: ')))\n",
    "\n",
    "    for _ in range(0, m):\n",
    "        m_set.add(int(input('Please enter M number: ')))\n",
    "\n",
    "    print(n_set & m_set)\n",
    "\n",
    "\n",
    "shared_set_elements()\n",
    "        "
   ]
  }
 ],
 "metadata": {
  "interpreter": {
   "hash": "72f905a1bbd07dc295e964c0246fea79da9263e854d6ece130d260b8e4a73f49"
  },
  "kernelspec": {
   "display_name": "Python 3.10.1 64-bit",
   "language": "python",
   "name": "python3"
  },
  "language_info": {
   "codemirror_mode": {
    "name": "ipython",
    "version": 3
   },
   "file_extension": ".py",
   "mimetype": "text/x-python",
   "name": "python",
   "nbconvert_exporter": "python",
   "pygments_lexer": "ipython3",
   "version": "3.10.1"
  },
  "orig_nbformat": 4
 },
 "nbformat": 4,
 "nbformat_minor": 2
}
