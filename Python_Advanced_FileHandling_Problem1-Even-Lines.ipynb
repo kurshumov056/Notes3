{
 "cells": [
  {
   "cell_type": "code",
   "execution_count": 5,
   "metadata": {},
   "outputs": [
    {
     "name": "stdout",
     "output_type": "stream",
     "text": [
      "faulthiswasn'titbuthim@judgetoquickwas@I\n",
      "safer@isIthere@hide@Quick@\n"
     ]
    }
   ],
   "source": [
    "'''   \n",
    "\n",
    "                                                        1. Even Lines\n",
    "\n",
    "Write a program that reads a text file and prints on the console its even lines. Line numbers start from 0. Before you print the result, replace {\"-\", \",\", \".\". \"!\", \"?\"}\n",
    "with \"@\" and reverse the order of words.\n",
    "\n",
    "\n",
    "text.txt                                                          Output\n",
    "-I was quick to judge him, but it wasn't his fault              fault@ hist wasn't it but hum@ juddge to quick was @t\n",
    "\n",
    "-Is this some kind of joke!                                     safer@ is It here@ hide @QuickQ\n",
    "\n",
    "-Quick, hide here. It is safer.\n",
    "'''\n",
    "\n",
    "replace = [\"-\", \",\", \".\", \"!\", \"?\"]\n",
    "\n",
    "with open('text.txt', 'r') as file:\n",
    "    for row, line in enumerate(file):\n",
    "        if row % 2 == 0:\n",
    "            final = ''.join(reversed(line.strip().split()))\n",
    "            for char in replace:\n",
    "                final = final.replace(char, '@')\n",
    "            print(final)"
   ]
  },
  {
   "cell_type": "code",
   "execution_count": null,
   "metadata": {},
   "outputs": [],
   "source": []
  }
 ],
 "metadata": {
  "interpreter": {
   "hash": "72f905a1bbd07dc295e964c0246fea79da9263e854d6ece130d260b8e4a73f49"
  },
  "kernelspec": {
   "display_name": "Python 3.10.1 64-bit",
   "language": "python",
   "name": "python3"
  },
  "language_info": {
   "codemirror_mode": {
    "name": "ipython",
    "version": 3
   },
   "file_extension": ".py",
   "mimetype": "text/x-python",
   "name": "python",
   "nbconvert_exporter": "python",
   "pygments_lexer": "ipython3",
   "version": "3.10.1"
  },
  "orig_nbformat": 4
 },
 "nbformat": 4,
 "nbformat_minor": 2
}
