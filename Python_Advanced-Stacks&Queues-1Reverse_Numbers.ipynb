{
 "cells": [
  {
   "cell_type": "code",
   "execution_count": 11,
   "metadata": {},
   "outputs": [
    {
     "name": "stdout",
     "output_type": "stream",
     "text": [
      "5 4 3 2 1 "
     ]
    }
   ],
   "source": [
    "'''   \n",
    "                                                1. Reverse Numbers\n",
    "\n",
    "\n",
    "Write a program that reads a string with N integers from the console, seperated by a single space, and reverses them using a stack. Prtin the reversed integeres on one line, \n",
    "seperated by a single space, and reverses them using a stack. Print the reveresed integers on one line, separated by a single space.\n",
    "\n",
    "\n",
    "Examples:\n",
    "\n",
    "\n",
    "Input                           Output\n",
    "1 2 3 4 5                       5 4 3 2 1\n",
    "\n",
    "\n",
    "Input                           Output\n",
    "1                               1\n",
    "\n",
    "\n",
    "\n",
    "\n",
    "'''\n",
    "\n",
    "def reverse_nums(nums):\n",
    "    text = list(nums.split(' '))\n",
    "    rev_text = str()\n",
    "\n",
    "    while text:\n",
    "        num = text.pop()\n",
    "        print(num, end = \" \")\n",
    "\n",
    "\n",
    "\n",
    "reverse_nums('1 2 3 4 5')\n"
   ]
  }
 ],
 "metadata": {
  "interpreter": {
   "hash": "72f905a1bbd07dc295e964c0246fea79da9263e854d6ece130d260b8e4a73f49"
  },
  "kernelspec": {
   "display_name": "Python 3.10.1 64-bit",
   "language": "python",
   "name": "python3"
  },
  "language_info": {
   "codemirror_mode": {
    "name": "ipython",
    "version": 3
   },
   "file_extension": ".py",
   "mimetype": "text/x-python",
   "name": "python",
   "nbconvert_exporter": "python",
   "pygments_lexer": "ipython3",
   "version": "3.10.1"
  },
  "orig_nbformat": 4
 },
 "nbformat": 4,
 "nbformat_minor": 2
}
