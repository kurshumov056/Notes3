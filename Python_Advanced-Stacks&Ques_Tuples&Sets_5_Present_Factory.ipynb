{
 "cells": [
  {
   "cell_type": "code",
   "execution_count": 1,
   "metadata": {},
   "outputs": [
    {
     "data": {
      "text/plain": [
       "'                                                             5. Santa\\'s Present Factory\\n\\nThis year Santa has decided to share his secret with you. Get ready to learn how his elves craft all the presents.\\nFirst, you will receive a sequence of integers representing the number of materials for crafting toys in one box.\\nAfter that, you will be given another sequence of integers - their magic level.\\nYour task is to mix materials with magic so you can craft presents, listed in the table below with the exact magic level:\\n\\nPresent             Magic Needed\\nDoll                150\\nWooden Train        25\\nTeddy Bear          300\\nBicycle             400\\n\\nYou should take the last box with materials and the first magic level value to craft a toy. Their multiplication\\ncalculates the total magic level. If the result equals one of the levels described in the table above, you craft the\\npresent and remove both materials and magic value. Otherwise:\\n    . If the product of the operation is a negative number, you should sum the values together, remove them both from their positions, and add the result to the materials.\\n    . If the product doesn\\'t equal one of the magic levels in the table and is a positive number, remove only the magic value and increase the material value by 15.\\n    . If the magic or material (or both) equals 0, remove it (or both) and continue crafting the presents.\\n\\nStop crafting presents when you run out of boxes of materials or magic level values.\\n\\nYour task is considered done if you manage to craft either one of the pairs:\\n· a doll and a train\\n. a teddy bear and a bicycle\\n\\nInput\\n\\n    . The first line of input will represent the values of boxes with materials - integers, separated by a single space\\n    . On the second line, you will be given the magic values - integers again, separated by a single space Output\\n\\n    . On the first line - print whether you\\'ve succeeded in crafting the presents:\\n        o \"The presents are crafted! Merry Christmas!\"\\n        o \"No presents this Christmas!\"\\n. On the next two lines print the materials and magic that are left, if there are any (otherwise skip the line)\\n        o \"Materials left: {material1}, {material2}, _ {materialN}\"\\n        o \"Magic left: {magicValue1}, {magicValue2}, _ {magicValueN}\"\\n. On the next lines print the presents you have crafted, ordered alphabetically in the format:\\n        o \"{toy_name1}: {amount}\\n        {toy_name2}: {amount}\\n        ...\\n        {toy_nameN}: {amount}\"\\n\\nConstraints\\n    . All the materials values will be integers in the range [1, 100]\\n    . Magic level values will be integers in the revenge [-10, 100]\\n    . In all cases, at least one present will be crafted\\n\\n\\nExamples\\n\\nInput                                  Output                      Comment\\n\\n10 -5 20 15 -30 10                     The presents are crafted!            First, we have 40.10-400, which is the\\n40 60 10 4 10 0                        Merry Christmas!                     needed magic for a bicycle. Remove both.\\n                                                                            60*(-30) = -1800 (negative). 60+(-30) = 30.\\n                                       Materials left: 20, -5, 10           Remove 60 and -30. Add 30 to materials.\\n                                       Bicecly: 1                           30*10=300 (bear). Remove both.\\n                                       Teddy bear: 2                        4*15=60, so remove 4, and the material is\\n                                                                            ncreased by 15 (15+15=30).\\n                                                                            10*30=300 (bear).\\n                                                                            Print desired text.\\n\\n\\n\\n                                                                            \\n\\nInput                                   Output                               Comment\\n\\n30 5 15 60 0 30                         No presents this Christmas!\\n-15 10 5 -15 25                         Materials left: 20, 30\\n                                        Doll: 1\\n                                        Teddy bear: 1\\n'"
      ]
     },
     "execution_count": 1,
     "metadata": {},
     "output_type": "execute_result"
    }
   ],
   "source": [
    "'''                                                             5. Santa's Present Factory\n",
    "\n",
    "This year Santa has decided to share his secret with you. Get ready to learn how his elves craft all the presents.\n",
    "First, you will receive a sequence of integers representing the number of materials for crafting toys in one box.\n",
    "After that, you will be given another sequence of integers - their magic level.\n",
    "Your task is to mix materials with magic so you can craft presents, listed in the table below with the exact magic level:\n",
    "\n",
    "Present             Magic Needed\n",
    "Doll                150\n",
    "Wooden Train        25\n",
    "Teddy Bear          300\n",
    "Bicycle             400\n",
    "\n",
    "You should take the last box with materials and the first magic level value to craft a toy. Their multiplication\n",
    "calculates the total magic level. If the result equals one of the levels described in the table above, you craft the\n",
    "present and remove both materials and magic value. Otherwise:\n",
    "    . If the product of the operation is a negative number, you should sum the values together, remove them both from their positions, and add the result to the materials.\n",
    "    . If the product doesn't equal one of the magic levels in the table and is a positive number, remove only the magic value and increase the material value by 15.\n",
    "    . If the magic or material (or both) equals 0, remove it (or both) and continue crafting the presents.\n",
    "\n",
    "Stop crafting presents when you run out of boxes of materials or magic level values.\n",
    "\n",
    "Your task is considered done if you manage to craft either one of the pairs:\n",
    "· a doll and a train\n",
    ". a teddy bear and a bicycle\n",
    "\n",
    "Input\n",
    "\n",
    "    . The first line of input will represent the values of boxes with materials - integers, separated by a single space\n",
    "    . On the second line, you will be given the magic values - integers again, separated by a single space Output\n",
    "\n",
    "    . On the first line - print whether you've succeeded in crafting the presents:\n",
    "        o \"The presents are crafted! Merry Christmas!\"\n",
    "        o \"No presents this Christmas!\"\n",
    ". On the next two lines print the materials and magic that are left, if there are any (otherwise skip the line)\n",
    "        o \"Materials left: {material1}, {material2}, _ {materialN}\"\n",
    "        o \"Magic left: {magicValue1}, {magicValue2}, _ {magicValueN}\"\n",
    ". On the next lines print the presents you have crafted, ordered alphabetically in the format:\n",
    "        o \"{toy_name1}: {amount}\n",
    "        {toy_name2}: {amount}\n",
    "        ...\n",
    "        {toy_nameN}: {amount}\"\n",
    "\n",
    "Constraints\n",
    "    . All the materials values will be integers in the range [1, 100]\n",
    "    . Magic level values will be integers in the revenge [-10, 100]\n",
    "    . In all cases, at least one present will be crafted\n",
    "\n",
    "\n",
    "Examples\n",
    "\n",
    "Input                                  Output                      Comment\n",
    "\n",
    "10 -5 20 15 -30 10                     The presents are crafted!            First, we have 40.10-400, which is the\n",
    "40 60 10 4 10 0                        Merry Christmas!                     needed magic for a bicycle. Remove both.\n",
    "                                                                            60*(-30) = -1800 (negative). 60+(-30) = 30.\n",
    "                                       Materials left: 20, -5, 10           Remove 60 and -30. Add 30 to materials.\n",
    "                                       Bicecly: 1                           30*10=300 (bear). Remove both.\n",
    "                                       Teddy bear: 2                        4*15=60, so remove 4, and the material is\n",
    "                                                                            ncreased by 15 (15+15=30).\n",
    "                                                                            10*30=300 (bear).\n",
    "                                                                            Print desired text.\n",
    "\n",
    "\n",
    "\n",
    "                                                                            \n",
    "\n",
    "Input                                   Output                               Comment\n",
    "\n",
    "30 5 15 60 0 30                         No presents this Christmas!\n",
    "-15 10 5 -15 25                         Materials left: 20, 30\n",
    "                                        Doll: 1\n",
    "                                        Teddy bear: 1\n",
    "'''\n",
    "\n"
   ]
  },
  {
   "cell_type": "code",
   "execution_count": null,
   "metadata": {},
   "outputs": [],
   "source": []
  }
 ],
 "metadata": {
  "interpreter": {
   "hash": "72f905a1bbd07dc295e964c0246fea79da9263e854d6ece130d260b8e4a73f49"
  },
  "kernelspec": {
   "display_name": "Python 3.10.1 64-bit",
   "language": "python",
   "name": "python3"
  },
  "language_info": {
   "codemirror_mode": {
    "name": "ipython",
    "version": 3
   },
   "file_extension": ".py",
   "mimetype": "text/x-python",
   "name": "python",
   "nbconvert_exporter": "python",
   "pygments_lexer": "ipython3",
   "version": "3.10.1"
  },
  "orig_nbformat": 4
 },
 "nbformat": 4,
 "nbformat_minor": 2
}
