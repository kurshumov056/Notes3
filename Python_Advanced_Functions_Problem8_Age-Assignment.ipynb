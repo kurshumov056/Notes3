{
 "cells": [
  {
   "cell_type": "code",
   "execution_count": 22,
   "metadata": {},
   "outputs": [
    {
     "name": "stdout",
     "output_type": "stream",
     "text": [
      "[3, 8]\n"
     ]
    }
   ],
   "source": []
  },
  {
   "cell_type": "code",
   "execution_count": 1,
   "metadata": {},
   "outputs": [
    {
     "name": "stdout",
     "output_type": "stream",
     "text": [
      "The crossover index is: 2\n"
     ]
    }
   ],
   "source": []
  },
  {
   "cell_type": "code",
   "execution_count": 24,
   "metadata": {},
   "outputs": [
    {
     "name": "stdout",
     "output_type": "stream",
     "text": [
      "{'Peter': 19, 'George': 26}\n",
      "{'Amy': 22, 'Bill': 61, 'Willy': 36}\n"
     ]
    }
   ],
   "source": [
    "'''     \n",
    "                                                                    8. Age Assignment\n",
    "\n",
    "                                                                    \n",
    "Create a function called age_assignment that receives a different number of names and a different number of\n",
    "key-value pairs. The key will be a single letter (the first letter of each name) and the value - a number (age). Find its\n",
    "first letter in the key-value pairs for each name and assign the age to the person's name. It the end, return a\n",
    "dictionary with all the names and ages as shown in the example. Submit only the function in the judge system.\n",
    "\n",
    "Examples:\n",
    "\n",
    "Test Code                                                                   Output\n",
    "print(age_assignment(\"Peter\", \"George\", G=26, P=19))                        {'Peter': 19, 'George': 26}\n",
    " \n",
    "Test Code                                                                   Output\n",
    "print(age_assignment(\"Amy\", \"Bill\", \"Willy\", W=36, A=22, B=61))             {'Amy': 22. 'Bill': 61, 'Willy': 36}\n",
    "                                         \n",
    " \n",
    "\n",
    "'''\n",
    "\n",
    "def age_assignment(*args, **kwargs):\n",
    "    result = {}\n",
    "\n",
    "    for arg in args:\n",
    "        first_letter = arg[0]\n",
    "        for kwarg in kwargs.items():\n",
    "            key, value = kwarg[0], kwarg[1]\n",
    "\n",
    "            if first_letter == key:\n",
    "                result[arg] = value\n",
    "\n",
    "    return result\n",
    "\n",
    "         \n",
    "\n",
    "print(age_assignment(\"Peter\", \"George\", G=26, P=19))\n",
    "print(age_assignment(\"Amy\", \"Bill\", \"Willy\", W=36, A=22, B=61))\n"
   ]
  },
  {
   "cell_type": "code",
   "execution_count": null,
   "metadata": {},
   "outputs": [],
   "source": []
  }
 ],
 "metadata": {
  "interpreter": {
   "hash": "72f905a1bbd07dc295e964c0246fea79da9263e854d6ece130d260b8e4a73f49"
  },
  "kernelspec": {
   "display_name": "Python 3.10.1 64-bit",
   "language": "python",
   "name": "python3"
  },
  "language_info": {
   "codemirror_mode": {
    "name": "ipython",
    "version": 3
   },
   "file_extension": ".py",
   "mimetype": "text/x-python",
   "name": "python",
   "nbconvert_exporter": "python",
   "pygments_lexer": "ipython3",
   "version": "3.10.1"
  },
  "orig_nbformat": 4
 },
 "nbformat": 4,
 "nbformat_minor": 2
}
