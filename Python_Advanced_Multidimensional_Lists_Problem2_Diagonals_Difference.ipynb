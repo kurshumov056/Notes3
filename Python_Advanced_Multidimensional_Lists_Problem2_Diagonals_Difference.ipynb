{
 "cells": [
  {
   "cell_type": "code",
   "execution_count": 18,
   "metadata": {},
   "outputs": [
    {
     "name": "stdout",
     "output_type": "stream",
     "text": [
      "User input Row #3\n",
      "User input matrix: [['11', '2', '4'], ['4', '5', '6'], ['10', '8', '-12']]\n",
      "Primary Diagonal sum - Secondary Diagonal Sum = -15 \n"
     ]
    }
   ],
   "source": [
    "'''    \n",
    "                                2. Diagonal Difference\n",
    "\n",
    "\n",
    "Write a program that finds the difference between the sums of the square matrix diagonals (absolute value)\n",
    "\n",
    "11 2  4                                         11 2  4\n",
    "4  5  6                                         4  5  6\n",
    "10 8 -12                                        10 8 -12\n",
    "primary diag sum = 11+5-12                      Secondary diag sum = 4+5+10\n",
    "\n",
    "On the first line, you will receive an integer N - the size of a square matrix. The following N files hold the values for each column - N\n",
    "numbers seperated by a single space. Print the absolute difference between primary and the secondary diagonal sums\n",
    "\n",
    "\n",
    "Examples\n",
    "\n",
    "Input               Output\n",
    "\n",
    "3                   15\n",
    "11 2  4\n",
    "4  5  6\n",
    "10 8 -12\n",
    "'''\n",
    "\n",
    "def diagonals():\n",
    "    n = int(input('Enter # matrix rows'))\n",
    "    matrix = [input().split(' ') for _ in range(n)]\n",
    "\n",
    "    print(f'User input Row #{n}')\n",
    "    print(f'User input matrix: {matrix}')\n",
    "    \n",
    "    primary_diagonal = [matrix[i][i] for i in range(n)]\n",
    "    secondary_diagonal = [matrix[i][n - i - 1] for i in range(n)]\n",
    "    x_diagonal_sum = 0\n",
    "    y_diagonal_sum = 0\n",
    "  \n",
    "\n",
    "    for x,y in zip(primary_diagonal, secondary_diagonal):\n",
    "        x_diagonal_sum += int(x)\n",
    "        y_diagonal_sum += int(y)\n",
    "      \n",
    "     \n",
    " \n",
    "    \n",
    " \n",
    "    print(f\"Primary Diagonal sum - Secondary Diagonal Sum = {x_diagonal_sum - y_diagonal_sum} \")\n",
    "\n",
    "diagonals()"
   ]
  },
  {
   "cell_type": "code",
   "execution_count": null,
   "metadata": {},
   "outputs": [],
   "source": []
  }
 ],
 "metadata": {
  "interpreter": {
   "hash": "72f905a1bbd07dc295e964c0246fea79da9263e854d6ece130d260b8e4a73f49"
  },
  "kernelspec": {
   "display_name": "Python 3.10.1 64-bit",
   "language": "python",
   "name": "python3"
  },
  "language_info": {
   "codemirror_mode": {
    "name": "ipython",
    "version": 3
   },
   "file_extension": ".py",
   "mimetype": "text/x-python",
   "name": "python",
   "nbconvert_exporter": "python",
   "pygments_lexer": "ipython3",
   "version": "3.10.1"
  },
  "orig_nbformat": 4
 },
 "nbformat": 4,
 "nbformat_minor": 2
}
