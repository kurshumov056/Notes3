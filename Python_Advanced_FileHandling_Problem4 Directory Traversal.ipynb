{
 "cells": [
  {
   "cell_type": "code",
   "execution_count": 4,
   "metadata": {},
   "outputs": [],
   "source": [
    "'''   \n",
    "\n",
    "                                                                4. Directory Traversal\n",
    "\n",
    "\n",
    "                                                                \n",
    "Write a program that traverses a given directory for all files. Search through the first level of the directory only and\n",
    "write information about each found file in report.txt. The files should be grouped by their extension. Extensions\n",
    "should be ordered by name alphabetically. The files with extensions should also be sorted by name. report.txt should\n",
    "be saved on the Desktop. Ensure the desktop path is always valid, regardless of the user.\n",
    "\n",
    "\n",
    "\n",
    "'''\n",
    "\n",
    "\n",
    "\n",
    "from os import walk\n",
    "\n",
    "files_by_ext = {}\n",
    "for _, _, files in walk('.'):\n",
    "    for file in files:\n",
    "        extension = file.split('. ')[-1]\n",
    "        if extension not in files_by_ext:\n",
    "            files_by_ext[extension] = []\n",
    "        files_by_ext[extension].append(file)\n",
    "\n",
    "for extension, files in sorted(files_by_ext.items()):\n",
    "    print(f'.{extension}')\n",
    "    for file in sorted(files):\n",
    "        print(f' --- {file}')\n",
    "\n",
    " "
   ]
  },
  {
   "cell_type": "code",
   "execution_count": null,
   "metadata": {},
   "outputs": [],
   "source": []
  }
 ],
 "metadata": {
  "interpreter": {
   "hash": "72f905a1bbd07dc295e964c0246fea79da9263e854d6ece130d260b8e4a73f49"
  },
  "kernelspec": {
   "display_name": "Python 3.10.1 64-bit",
   "language": "python",
   "name": "python3"
  },
  "language_info": {
   "codemirror_mode": {
    "name": "ipython",
    "version": 3
   },
   "file_extension": ".py",
   "mimetype": "text/x-python",
   "name": "python",
   "nbconvert_exporter": "python",
   "pygments_lexer": "ipython3",
   "version": "3.10.1"
  },
  "orig_nbformat": 4
 },
 "nbformat": 4,
 "nbformat_minor": 2
}
