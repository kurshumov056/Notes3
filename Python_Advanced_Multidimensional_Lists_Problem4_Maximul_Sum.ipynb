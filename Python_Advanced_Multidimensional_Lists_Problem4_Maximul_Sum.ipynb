{
 "cells": [
  {
   "cell_type": "code",
   "execution_count": 39,
   "metadata": {},
   "outputs": [
    {
     "name": "stdout",
     "output_type": "stream",
     "text": [
      "Max sum =  34\n"
     ]
    }
   ],
   "source": [
    "'''     \n",
    "                                                                4. Maximal Sum\n",
    "\n",
    "\n",
    "Write a program that reads a rectangular matrix's dimensions and finds the 3x3 square with a maximum sum of its\n",
    "elements. There will be no case with two or more 3x3 squares with equal maximal sum.\n",
    "\n",
    "Input\n",
    "        . On the first line, you will receive the rows and columns in the format \"{rows} {columns}\" - integers in the range [1, 20]\n",
    "        . On the following lines, you will receive each row with its columns - integers, separated by a single space\n",
    "\n",
    "Output\n",
    "        . On the first line, print the maximum sum of the elements in the 3x3 square in the format \"Sum = {sum}\"\n",
    "        . On the following 3 lines, print each element of the found submatrix, separated by a single space\n",
    "\n",
    "Examples\n",
    "\n",
    "\n",
    "Input                   Output                  \n",
    "\n",
    "4 5                     Sum = 75\n",
    "1 5 5  2  4             1 4 14\n",
    "2 1 4  14 3             7 11 2\n",
    "3 7 11 2  8             8 12 16\n",
    "4 8 12 16 4\n",
    "\n",
    "Input                   Output\n",
    "5 6                     Sum = 34\n",
    "1 0 4 3 1 1             2 5 6\n",
    "1 3 1 3 0 4             5 4 1\n",
    "6 4 1 2 5 6                 6 0 5\n",
    "2 2 1 5 4 1\n",
    "3 3 3 6 0 5\n",
    "\n",
    "\n",
    "'''\n",
    "\n",
    "\n",
    "rows, cols = [int(x) for x in input().split()]\n",
    "matrix = []\n",
    "\n",
    "for _ in range(rows):\n",
    "    matrix.append([int(x) for x in input().split()])\n",
    "\n",
    "\n",
    "\n",
    "max_sum = 0\n",
    "\n",
    "for row in range(rows - 2):\n",
    "    for col in range(cols - 2):\n",
    "        current_sum = matrix[row][col] + matrix[row][col + 1] + matrix[row][col + 2] + matrix[row + 1][col] + matrix[row + 1][col + 1] + matrix[row + 1][col + 2] \\\n",
    "        + matrix[row + 2][col] + matrix[row + 2][col + 1] + matrix[row + 2][col + 2]\n",
    "    \n",
    "\n",
    "    if current_sum > max_sum:\n",
    "        max_sum = current_sum\n",
    "print('Max sum = ', max_sum) \n",
    "\n",
    "       \n"
   ]
  },
  {
   "cell_type": "code",
   "execution_count": null,
   "metadata": {},
   "outputs": [],
   "source": []
  }
 ],
 "metadata": {
  "interpreter": {
   "hash": "72f905a1bbd07dc295e964c0246fea79da9263e854d6ece130d260b8e4a73f49"
  },
  "kernelspec": {
   "display_name": "Python 3.10.1 64-bit",
   "language": "python",
   "name": "python3"
  },
  "language_info": {
   "codemirror_mode": {
    "name": "ipython",
    "version": 3
   },
   "file_extension": ".py",
   "mimetype": "text/x-python",
   "name": "python",
   "nbconvert_exporter": "python",
   "pygments_lexer": "ipython3",
   "version": "3.10.1"
  },
  "orig_nbformat": 4
 },
 "nbformat": 4,
 "nbformat_minor": 2
}
