{
 "cells": [
  {
   "cell_type": "code",
   "execution_count": 23,
   "metadata": {},
   "outputs": [
    {
     "name": "stdout",
     "output_type": "stream",
     "text": [
      "User input Row #5\n",
      "User input matrix: [['A', 'A', 'B', 'D'], ['A', 'A', 'B', 'B'], ['I', 'J', 'B', 'B'], ['C', 'C', 'C', 'G'], ['C', 'C', 'K', 'P']]\n",
      "Pairs: 3\n"
     ]
    }
   ],
   "source": [
    "'''     \n",
    "                                        3. 2x2 Square in Matrix\n",
    "\n",
    "\n",
    "Find the number of all 2x2 squares containing identical chars in a matrix. On the first line, you will receive the matrix's dimensions in the format \"{rows} {columns}\".\n",
    "On the following rows, you will receive characters seperated by a single space. Print the number of all square matrices you have found.\n",
    "\n",
    "Examples\n",
    "\n",
    "\n",
    "Input               Output              Comments\n",
    "\n",
    "3 4                 2                   Two 2x2 squares of equal cells:\n",
    "A B B D                                  A |B B| D         A B B D\n",
    "E B B B                                  E |B B| B         E B |B B|\n",
    "I J B B                                  I J B B           I J |B B|\n",
    "\n",
    "\n",
    "Input               Output              Comments\n",
    "\n",
    "2 2                 0                   No 2x2 squares of equal cells exist\n",
    "a b\n",
    "c d\n",
    "\n",
    "\n",
    "Input               Output              Comments\n",
    "\n",
    "5 4                 3                   Three 2x2 squares of equal cells:AABD\n",
    "\n",
    "A A B D                                 |A A| B D         A A B D         A A B D\n",
    "A A B B                                 |A A| B B         A A |B B|       A A B B \n",
    "I J B B                                 I J B B           I J |B B|       I J B B\n",
    "C C C G                                 C C C G           C C C G        |C C| C G\n",
    "C C K P                                 C C K P           C C K P        |C C| K P\n",
    "\n",
    " \n",
    "'''\n",
    "\n",
    "\n",
    "def diagonals():\n",
    "    n, m =  input('Enter # matrix rows').split()\n",
    "    matrix = [input().split(' ') for _ in range(int(n))]\n",
    "\n",
    "    print(f'User input Row #{n}')\n",
    "    print(f'User input matrix: {matrix}')\n",
    "    pairs = 0 \n",
    "    counter = 0\n",
    "    ranges = []\n",
    "    \n",
    "    for row_index in range(int(n)):\n",
    "        counter = 0\n",
    "        flag = False\n",
    "        for column_index in range(int(m)):\n",
    "            \n",
    "           \n",
    "            left_index = column_index - 1\n",
    "            if left_index > -1 and row_index < int(n)-1 and flag == False and matrix[row_index][left_index] ==  matrix[row_index][column_index]:\n",
    "              \n",
    "                if matrix[row_index + 1][left_index] == matrix[row_index+1][column_index]:\n",
    "                    element1 = matrix[row_index][left_index]\n",
    "                    element2 = matrix[row_index + 1][left_index]\n",
    "                \n",
    "\n",
    "                    if element1 == element2:\n",
    "                        flag = True\n",
    "                        pairs += 1\n",
    "                        current = [left_index, column_index]\n",
    "                         \n",
    "\n",
    "              \n",
    "\n",
    "\n",
    "\n",
    "\n",
    "\n",
    "\n",
    "             \n",
    "                 \n",
    "    print('Pairs:', pairs)\n",
    "diagonals()\n",
    "\n"
   ]
  },
  {
   "cell_type": "code",
   "execution_count": null,
   "metadata": {},
   "outputs": [],
   "source": []
  }
 ],
 "metadata": {
  "interpreter": {
   "hash": "72f905a1bbd07dc295e964c0246fea79da9263e854d6ece130d260b8e4a73f49"
  },
  "kernelspec": {
   "display_name": "Python 3.10.1 64-bit",
   "language": "python",
   "name": "python3"
  },
  "language_info": {
   "codemirror_mode": {
    "name": "ipython",
    "version": 3
   },
   "file_extension": ".py",
   "mimetype": "text/x-python",
   "name": "python",
   "nbconvert_exporter": "python",
   "pygments_lexer": "ipython3",
   "version": "3.10.1"
  },
  "orig_nbformat": 4
 },
 "nbformat": 4,
 "nbformat_minor": 2
}
